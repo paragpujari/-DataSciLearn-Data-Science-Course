{
  "nbformat": 4,
  "nbformat_minor": 0,
  "metadata": {
    "colab": {
      "provenance": []
    },
    "kernelspec": {
      "name": "python3",
      "display_name": "Python 3"
    },
    "language_info": {
      "name": "python"
    }
  },
  "cells": [
    {
      "cell_type": "markdown",
      "source": [
        "**DICTIONARIES IN PYTHON**\n",
        "\n",
        "1.  Dictionaries are used to store data values in key:value pairs.\n",
        "\n",
        "2.  A dictionary is a collection which is ordered, changeable or mutable and do\n",
        "    not allow duplicates.\n",
        "\n",
        "3.  Dictionary items are ordered, changeable, and does not allow duplicates.\n",
        "\n",
        "4.  Dictionary items are presented in key:value pairs, and can be referred to   by using the key name.\n",
        "\n",
        "5.  Dictionaries are changeable, meaning that we can change, add or remove  \n",
        "    items after the dictionary has been created.\n",
        "\n",
        "6.  Dictionaries cannot have two items with the same key.\n",
        "\n",
        "7.  A dictionary can nested and can contain another dictionary."
      ],
      "metadata": {
        "id": "wpEz7003Vahd"
      }
    },
    {
      "cell_type": "code",
      "source": [
        "d1 = {'name' : 'Bob'}\n",
        "print(d1)"
      ],
      "metadata": {
        "colab": {
          "base_uri": "https://localhost:8080/"
        },
        "id": "8ua4jXFaVsVq",
        "outputId": "108ee380-283c-4fd4-f8bd-2501ef838f34"
      },
      "execution_count": 1,
      "outputs": [
        {
          "output_type": "stream",
          "name": "stdout",
          "text": [
            "{'name': 'Bob'}\n"
          ]
        }
      ]
    },
    {
      "cell_type": "code",
      "source": [
        "d2 = {'age' : 45}\n",
        "print(d2)"
      ],
      "metadata": {
        "colab": {
          "base_uri": "https://localhost:8080/"
        },
        "id": "nAFBxO-NVwnT",
        "outputId": "c6b4e698-c107-4caf-c65c-97a94f0e1e1f"
      },
      "execution_count": 2,
      "outputs": [
        {
          "output_type": "stream",
          "name": "stdout",
          "text": [
            "{'age': 45}\n"
          ]
        }
      ]
    },
    {
      "cell_type": "code",
      "source": [
        "print(type(d2))"
      ],
      "metadata": {
        "colab": {
          "base_uri": "https://localhost:8080/"
        },
        "id": "LiSU-W_4Vzkh",
        "outputId": "1ddfbe21-0e01-48f8-dffe-0aaf9c641d00"
      },
      "execution_count": 3,
      "outputs": [
        {
          "output_type": "stream",
          "name": "stdout",
          "text": [
            "<class 'dict'>\n"
          ]
        }
      ]
    },
    {
      "cell_type": "code",
      "source": [
        "d = {} # empty dict\n",
        "\n",
        "print(d)\n",
        "\n",
        "print(type(d))"
      ],
      "metadata": {
        "colab": {
          "base_uri": "https://localhost:8080/"
        },
        "id": "veNjhiTtV7p6",
        "outputId": "1e78a05e-2900-45f3-e8f0-4714a4734c51"
      },
      "execution_count": 4,
      "outputs": [
        {
          "output_type": "stream",
          "name": "stdout",
          "text": [
            "{}\n",
            "<class 'dict'>\n"
          ]
        }
      ]
    },
    {
      "cell_type": "code",
      "source": [
        "d3 = {'name':'John', 'age' : 25, 'email_id':'john@gmail.com' ,'city' : 'New York'}\n",
        "print(d3)"
      ],
      "metadata": {
        "colab": {
          "base_uri": "https://localhost:8080/"
        },
        "id": "Ih5ThMXYWH3i",
        "outputId": "140fc99c-5a90-4ecb-b28a-1924c5d00344"
      },
      "execution_count": 5,
      "outputs": [
        {
          "output_type": "stream",
          "name": "stdout",
          "text": [
            "{'name': 'John', 'age': 25, 'email_id': 'john@gmail.com', 'city': 'New York'}\n"
          ]
        }
      ]
    },
    {
      "cell_type": "code",
      "source": [
        "d4 = {'course':['aws', 'cloud','ml']}\n",
        "d4"
      ],
      "metadata": {
        "colab": {
          "base_uri": "https://localhost:8080/"
        },
        "id": "OHHMsABWWI3E",
        "outputId": "07d1980a-6356-4bcc-ad58-d96ba97b45b6"
      },
      "execution_count": 6,
      "outputs": [
        {
          "output_type": "execute_result",
          "data": {
            "text/plain": [
              "{'course': ['aws', 'cloud', 'ml']}"
            ]
          },
          "metadata": {},
          "execution_count": 6
        }
      ]
    },
    {
      "cell_type": "code",
      "source": [
        "d5 = {'course':['deeplearning','machinelearning','nlp','nlp']}\n",
        "d5"
      ],
      "metadata": {
        "colab": {
          "base_uri": "https://localhost:8080/"
        },
        "id": "eMm4TvplWMPb",
        "outputId": "e9929e33-f842-4010-af40-7474319ed26e"
      },
      "execution_count": 7,
      "outputs": [
        {
          "output_type": "execute_result",
          "data": {
            "text/plain": [
              "{'course': ['deeplearning', 'machinelearning', 'nlp', 'nlp']}"
            ]
          },
          "metadata": {},
          "execution_count": 7
        }
      ]
    },
    {
      "cell_type": "code",
      "source": [
        "d6 = {'key':'youtube','key':'youtube'}\n",
        "print(d6)"
      ],
      "metadata": {
        "colab": {
          "base_uri": "https://localhost:8080/"
        },
        "id": "0vi9LAr-WSVb",
        "outputId": "a462be3b-1af7-48cb-ed4a-9eb3f7567a5b"
      },
      "execution_count": 8,
      "outputs": [
        {
          "output_type": "stream",
          "name": "stdout",
          "text": [
            "{'key': 'youtube'}\n"
          ]
        }
      ]
    },
    {
      "cell_type": "markdown",
      "source": [
        "**Indexing in dict**"
      ],
      "metadata": {
        "id": "3fAnzgXiWUmc"
      }
    },
    {
      "cell_type": "code",
      "source": [
        "d3"
      ],
      "metadata": {
        "colab": {
          "base_uri": "https://localhost:8080/"
        },
        "id": "PMpsBhSOWW3w",
        "outputId": "ec37acab-dae6-4863-ae83-a1db3a00d636"
      },
      "execution_count": 9,
      "outputs": [
        {
          "output_type": "execute_result",
          "data": {
            "text/plain": [
              "{'name': 'John', 'age': 25, 'email_id': 'john@gmail.com', 'city': 'New York'}"
            ]
          },
          "metadata": {},
          "execution_count": 9
        }
      ]
    },
    {
      "cell_type": "code",
      "source": [
        "d3['email_id']"
      ],
      "metadata": {
        "colab": {
          "base_uri": "https://localhost:8080/",
          "height": 35
        },
        "id": "ehzzNcf7WZqD",
        "outputId": "646b899d-d367-472a-b5d5-d7074c726bd8"
      },
      "execution_count": 10,
      "outputs": [
        {
          "output_type": "execute_result",
          "data": {
            "text/plain": [
              "'john@gmail.com'"
            ],
            "application/vnd.google.colaboratory.intrinsic+json": {
              "type": "string"
            }
          },
          "metadata": {},
          "execution_count": 10
        }
      ]
    },
    {
      "cell_type": "code",
      "source": [
        "d3[1]"
      ],
      "metadata": {
        "colab": {
          "base_uri": "https://localhost:8080/",
          "height": 141
        },
        "id": "ch2_Kt2_Wd2v",
        "outputId": "746a10f9-cc3f-48cf-add6-655037bb609b"
      },
      "execution_count": 11,
      "outputs": [
        {
          "output_type": "error",
          "ename": "KeyError",
          "evalue": "1",
          "traceback": [
            "\u001b[0;31m---------------------------------------------------------------------------\u001b[0m",
            "\u001b[0;31mKeyError\u001b[0m                                  Traceback (most recent call last)",
            "\u001b[0;32m<ipython-input-11-218fef998e37>\u001b[0m in \u001b[0;36m<cell line: 1>\u001b[0;34m()\u001b[0m\n\u001b[0;32m----> 1\u001b[0;31m \u001b[0md3\u001b[0m\u001b[0;34m[\u001b[0m\u001b[0;36m1\u001b[0m\u001b[0;34m]\u001b[0m\u001b[0;34m\u001b[0m\u001b[0;34m\u001b[0m\u001b[0m\n\u001b[0m",
            "\u001b[0;31mKeyError\u001b[0m: 1"
          ]
        }
      ]
    },
    {
      "cell_type": "code",
      "source": [
        "d3['city']"
      ],
      "metadata": {
        "colab": {
          "base_uri": "https://localhost:8080/",
          "height": 35
        },
        "id": "VkJ6bjCqWgmD",
        "outputId": "6606606e-5c50-4e89-c9aa-b0579ae4e463"
      },
      "execution_count": 12,
      "outputs": [
        {
          "output_type": "execute_result",
          "data": {
            "text/plain": [
              "'New York'"
            ],
            "application/vnd.google.colaboratory.intrinsic+json": {
              "type": "string"
            }
          },
          "metadata": {},
          "execution_count": 12
        }
      ]
    },
    {
      "cell_type": "code",
      "source": [
        "d3['email_id']"
      ],
      "metadata": {
        "colab": {
          "base_uri": "https://localhost:8080/",
          "height": 35
        },
        "id": "12LO-T2DWkHL",
        "outputId": "38b042aa-e84a-415d-d325-423d72631fe3"
      },
      "execution_count": 13,
      "outputs": [
        {
          "output_type": "execute_result",
          "data": {
            "text/plain": [
              "'john@gmail.com'"
            ],
            "application/vnd.google.colaboratory.intrinsic+json": {
              "type": "string"
            }
          },
          "metadata": {},
          "execution_count": 13
        }
      ]
    },
    {
      "cell_type": "code",
      "source": [
        "d7 = {'company':['tata','birla','infosys','ril'],'projects':('ds','ml','nlp'), 'best':'abc'}\n",
        "d7"
      ],
      "metadata": {
        "colab": {
          "base_uri": "https://localhost:8080/"
        },
        "id": "NIviCXBjWnC5",
        "outputId": "e1802ccb-af5f-4851-9115-916f3556aa18"
      },
      "execution_count": 14,
      "outputs": [
        {
          "output_type": "execute_result",
          "data": {
            "text/plain": [
              "{'company': ['tata', 'birla', 'infosys', 'ril'],\n",
              " 'projects': ('ds', 'ml', 'nlp'),\n",
              " 'best': 'abc'}"
            ]
          },
          "metadata": {},
          "execution_count": 14
        }
      ]
    },
    {
      "cell_type": "code",
      "source": [
        "d7['company']"
      ],
      "metadata": {
        "colab": {
          "base_uri": "https://localhost:8080/"
        },
        "id": "2wM_8uuSWqVw",
        "outputId": "5abb8d3c-852c-4c05-bfbd-2e227e2fed60"
      },
      "execution_count": 15,
      "outputs": [
        {
          "output_type": "execute_result",
          "data": {
            "text/plain": [
              "['tata', 'birla', 'infosys', 'ril']"
            ]
          },
          "metadata": {},
          "execution_count": 15
        }
      ]
    },
    {
      "cell_type": "code",
      "source": [
        "d7['projects']"
      ],
      "metadata": {
        "colab": {
          "base_uri": "https://localhost:8080/"
        },
        "id": "yb18RBFfWsRQ",
        "outputId": "f03b3faa-84a8-4628-f04e-f00b67a7d287"
      },
      "execution_count": 16,
      "outputs": [
        {
          "output_type": "execute_result",
          "data": {
            "text/plain": [
              "('ds', 'ml', 'nlp')"
            ]
          },
          "metadata": {},
          "execution_count": 16
        }
      ]
    },
    {
      "cell_type": "code",
      "source": [
        "d7['best']"
      ],
      "metadata": {
        "colab": {
          "base_uri": "https://localhost:8080/",
          "height": 35
        },
        "id": "_2eKtD8lWvsh",
        "outputId": "0d25f9eb-1d8c-4439-e9d5-6132e7676f12"
      },
      "execution_count": 17,
      "outputs": [
        {
          "output_type": "execute_result",
          "data": {
            "text/plain": [
              "'abc'"
            ],
            "application/vnd.google.colaboratory.intrinsic+json": {
              "type": "string"
            }
          },
          "metadata": {},
          "execution_count": 17
        }
      ]
    },
    {
      "cell_type": "code",
      "source": [
        "d7['course']"
      ],
      "metadata": {
        "colab": {
          "base_uri": "https://localhost:8080/",
          "height": 141
        },
        "id": "UAUlPxhPWyew",
        "outputId": "7f203ebb-07f0-4cf2-fee3-e36895754e0c"
      },
      "execution_count": 18,
      "outputs": [
        {
          "output_type": "error",
          "ename": "KeyError",
          "evalue": "'course'",
          "traceback": [
            "\u001b[0;31m---------------------------------------------------------------------------\u001b[0m",
            "\u001b[0;31mKeyError\u001b[0m                                  Traceback (most recent call last)",
            "\u001b[0;32m<ipython-input-18-4eb9a9bd1f42>\u001b[0m in \u001b[0;36m<cell line: 1>\u001b[0;34m()\u001b[0m\n\u001b[0;32m----> 1\u001b[0;31m \u001b[0md7\u001b[0m\u001b[0;34m[\u001b[0m\u001b[0;34m'course'\u001b[0m\u001b[0;34m]\u001b[0m\u001b[0;34m\u001b[0m\u001b[0;34m\u001b[0m\u001b[0m\n\u001b[0m",
            "\u001b[0;31mKeyError\u001b[0m: 'course'"
          ]
        }
      ]
    },
    {
      "cell_type": "code",
      "source": [
        "#json format data\n",
        "\n",
        "nested_dict = {\n",
        "    'person':{'name':'john',\n",
        "            'age':25,\n",
        "             'address':{'street':'123 Main St',\n",
        "                       'city':'Farmington',\n",
        "                       'zipcode':'06032'}}\n",
        "}\n",
        "\n",
        "nested_dict"
      ],
      "metadata": {
        "colab": {
          "base_uri": "https://localhost:8080/"
        },
        "id": "mpBY8h_0Wzuo",
        "outputId": "a135230a-d277-4441-89dc-e892407c6fc6"
      },
      "execution_count": 19,
      "outputs": [
        {
          "output_type": "execute_result",
          "data": {
            "text/plain": [
              "{'person': {'name': 'john',\n",
              "  'age': 25,\n",
              "  'address': {'street': '123 Main St',\n",
              "   'city': 'Farmington',\n",
              "   'zipcode': '06032'}}}"
            ]
          },
          "metadata": {},
          "execution_count": 19
        }
      ]
    },
    {
      "cell_type": "code",
      "source": [
        "d8 = {'number' : [2,3,45,67,89], 'assignment':(1,2,3,5,7,8),'course':{'machinelearning':'krish','deeplearning':'youtube','nlp':'udemy'}}\n",
        "print(d8)"
      ],
      "metadata": {
        "colab": {
          "base_uri": "https://localhost:8080/"
        },
        "id": "TvaA2CxXW34w",
        "outputId": "d693eace-1a58-4419-e0ca-b04af75cff40"
      },
      "execution_count": 20,
      "outputs": [
        {
          "output_type": "stream",
          "name": "stdout",
          "text": [
            "{'number': [2, 3, 45, 67, 89], 'assignment': (1, 2, 3, 5, 7, 8), 'course': {'machinelearning': 'krish', 'deeplearning': 'youtube', 'nlp': 'udemy'}}\n"
          ]
        }
      ]
    },
    {
      "cell_type": "code",
      "source": [
        "d8['course']"
      ],
      "metadata": {
        "colab": {
          "base_uri": "https://localhost:8080/"
        },
        "id": "IuxlXshZW5ha",
        "outputId": "f0b65803-d814-4903-c899-f36e2b528b0d"
      },
      "execution_count": 21,
      "outputs": [
        {
          "output_type": "execute_result",
          "data": {
            "text/plain": [
              "{'machinelearning': 'krish', 'deeplearning': 'youtube', 'nlp': 'udemy'}"
            ]
          },
          "metadata": {},
          "execution_count": 21
        }
      ]
    },
    {
      "cell_type": "code",
      "source": [
        "d8['course']['machinelearning']"
      ],
      "metadata": {
        "colab": {
          "base_uri": "https://localhost:8080/",
          "height": 35
        },
        "id": "rW045Fv4W8pW",
        "outputId": "1d469b0f-ad38-48d0-bd06-878cb7b64d5a"
      },
      "execution_count": 22,
      "outputs": [
        {
          "output_type": "execute_result",
          "data": {
            "text/plain": [
              "'krish'"
            ],
            "application/vnd.google.colaboratory.intrinsic+json": {
              "type": "string"
            }
          },
          "metadata": {},
          "execution_count": 22
        }
      ]
    },
    {
      "cell_type": "markdown",
      "source": [
        "**Mutable**"
      ],
      "metadata": {
        "id": "ZDUm8KmWXEMo"
      }
    },
    {
      "cell_type": "code",
      "source": [
        "# keys\n",
        "\n",
        "dict_keys = d8.keys()\n",
        "print(dict_keys)\n",
        "print(type(dict_keys))"
      ],
      "metadata": {
        "colab": {
          "base_uri": "https://localhost:8080/"
        },
        "id": "Eb8mkq5iXGRs",
        "outputId": "952cf2a2-3132-4af9-c25c-5dcba6db883e"
      },
      "execution_count": 23,
      "outputs": [
        {
          "output_type": "stream",
          "name": "stdout",
          "text": [
            "dict_keys(['number', 'assignment', 'course'])\n",
            "<class 'dict_keys'>\n"
          ]
        }
      ]
    },
    {
      "cell_type": "code",
      "source": [
        "dict_keys1=list(dict_keys)"
      ],
      "metadata": {
        "id": "AQvnP4HFXOIq"
      },
      "execution_count": 24,
      "outputs": []
    },
    {
      "cell_type": "code",
      "source": [
        "print(dict_keys1)"
      ],
      "metadata": {
        "colab": {
          "base_uri": "https://localhost:8080/"
        },
        "id": "hNL3dLUhXPAb",
        "outputId": "1e6623ca-5a1e-42e4-f24c-1828f5653e21"
      },
      "execution_count": 25,
      "outputs": [
        {
          "output_type": "stream",
          "name": "stdout",
          "text": [
            "['number', 'assignment', 'course']\n"
          ]
        }
      ]
    },
    {
      "cell_type": "code",
      "source": [
        "print(type(dict_keys1))"
      ],
      "metadata": {
        "colab": {
          "base_uri": "https://localhost:8080/"
        },
        "id": "gUGkL78WXTcV",
        "outputId": "5dc1c054-d40d-470b-bdcb-c398e9d14438"
      },
      "execution_count": 26,
      "outputs": [
        {
          "output_type": "stream",
          "name": "stdout",
          "text": [
            "<class 'list'>\n"
          ]
        }
      ]
    },
    {
      "cell_type": "code",
      "source": [
        "print(type(dict_keys))"
      ],
      "metadata": {
        "colab": {
          "base_uri": "https://localhost:8080/"
        },
        "id": "WPIMggIXXZ-g",
        "outputId": "b2816e7b-d587-47da-b395-cd3e0710a338"
      },
      "execution_count": 27,
      "outputs": [
        {
          "output_type": "stream",
          "name": "stdout",
          "text": [
            "<class 'dict_keys'>\n"
          ]
        }
      ]
    },
    {
      "cell_type": "code",
      "source": [
        "d8.values()"
      ],
      "metadata": {
        "colab": {
          "base_uri": "https://localhost:8080/"
        },
        "id": "v2iW2H_cXdm3",
        "outputId": "3e384e21-a4a5-4375-eeea-f25353faab1a"
      },
      "execution_count": 28,
      "outputs": [
        {
          "output_type": "execute_result",
          "data": {
            "text/plain": [
              "dict_values([[2, 3, 45, 67, 89], (1, 2, 3, 5, 7, 8), {'machinelearning': 'krish', 'deeplearning': 'youtube', 'nlp': 'udemy'}])"
            ]
          },
          "metadata": {},
          "execution_count": 28
        }
      ]
    },
    {
      "cell_type": "code",
      "source": [
        "dict_value=list(d8.values())\n",
        "\n",
        "print(dict_value)"
      ],
      "metadata": {
        "colab": {
          "base_uri": "https://localhost:8080/"
        },
        "id": "ldlAd_uDXiSA",
        "outputId": "558f6a98-a279-4d11-d408-18d5cc6b1b14"
      },
      "execution_count": 29,
      "outputs": [
        {
          "output_type": "stream",
          "name": "stdout",
          "text": [
            "[[2, 3, 45, 67, 89], (1, 2, 3, 5, 7, 8), {'machinelearning': 'krish', 'deeplearning': 'youtube', 'nlp': 'udemy'}]\n"
          ]
        }
      ]
    },
    {
      "cell_type": "code",
      "source": [
        "print(type(dict_value))"
      ],
      "metadata": {
        "colab": {
          "base_uri": "https://localhost:8080/"
        },
        "id": "Pi4rFhVCXoGx",
        "outputId": "6b8bc0e5-6231-4ac9-8028-0816ecb54615"
      },
      "execution_count": 30,
      "outputs": [
        {
          "output_type": "stream",
          "name": "stdout",
          "text": [
            "<class 'list'>\n"
          ]
        }
      ]
    },
    {
      "cell_type": "code",
      "source": [
        "d8.items()"
      ],
      "metadata": {
        "colab": {
          "base_uri": "https://localhost:8080/"
        },
        "id": "ywt9vWV2Xrxm",
        "outputId": "77fbcb2e-3f61-4c35-97a7-bd0ffd2a2b6b"
      },
      "execution_count": 31,
      "outputs": [
        {
          "output_type": "execute_result",
          "data": {
            "text/plain": [
              "dict_items([('number', [2, 3, 45, 67, 89]), ('assignment', (1, 2, 3, 5, 7, 8)), ('course', {'machinelearning': 'krish', 'deeplearning': 'youtube', 'nlp': 'udemy'})])"
            ]
          },
          "metadata": {},
          "execution_count": 31
        }
      ]
    },
    {
      "cell_type": "code",
      "source": [
        "d8.pop('assignment')"
      ],
      "metadata": {
        "colab": {
          "base_uri": "https://localhost:8080/"
        },
        "id": "XDDjsPPJXthK",
        "outputId": "9a17ed1d-0cfe-4490-e50a-82025478b1f1"
      },
      "execution_count": 32,
      "outputs": [
        {
          "output_type": "execute_result",
          "data": {
            "text/plain": [
              "(1, 2, 3, 5, 7, 8)"
            ]
          },
          "metadata": {},
          "execution_count": 32
        }
      ]
    },
    {
      "cell_type": "code",
      "source": [
        "d8"
      ],
      "metadata": {
        "colab": {
          "base_uri": "https://localhost:8080/"
        },
        "id": "vfthQteLXxL1",
        "outputId": "7756fcec-5416-41da-b478-8d6a3c034927"
      },
      "execution_count": 33,
      "outputs": [
        {
          "output_type": "execute_result",
          "data": {
            "text/plain": [
              "{'number': [2, 3, 45, 67, 89],\n",
              " 'course': {'machinelearning': 'krish',\n",
              "  'deeplearning': 'youtube',\n",
              "  'nlp': 'udemy'}}"
            ]
          },
          "metadata": {},
          "execution_count": 33
        }
      ]
    },
    {
      "cell_type": "code",
      "source": [
        "d8.pop()"
      ],
      "metadata": {
        "colab": {
          "base_uri": "https://localhost:8080/",
          "height": 141
        },
        "id": "0OKVGod7X1FP",
        "outputId": "4be9d6f3-f15c-4cb1-afa1-ed9d98199e17"
      },
      "execution_count": 34,
      "outputs": [
        {
          "output_type": "error",
          "ename": "TypeError",
          "evalue": "pop expected at least 1 argument, got 0",
          "traceback": [
            "\u001b[0;31m---------------------------------------------------------------------------\u001b[0m",
            "\u001b[0;31mTypeError\u001b[0m                                 Traceback (most recent call last)",
            "\u001b[0;32m<ipython-input-34-6dedc1fcffad>\u001b[0m in \u001b[0;36m<cell line: 1>\u001b[0;34m()\u001b[0m\n\u001b[0;32m----> 1\u001b[0;31m \u001b[0md8\u001b[0m\u001b[0;34m.\u001b[0m\u001b[0mpop\u001b[0m\u001b[0;34m(\u001b[0m\u001b[0;34m)\u001b[0m\u001b[0;34m\u001b[0m\u001b[0;34m\u001b[0m\u001b[0m\n\u001b[0m",
            "\u001b[0;31mTypeError\u001b[0m: pop expected at least 1 argument, got 0"
          ]
        }
      ]
    },
    {
      "cell_type": "code",
      "source": [
        "d9 = {1:3,2:4,6:8}"
      ],
      "metadata": {
        "id": "gANOtp9HX12d"
      },
      "execution_count": 35,
      "outputs": []
    },
    {
      "cell_type": "code",
      "source": [
        "d9"
      ],
      "metadata": {
        "colab": {
          "base_uri": "https://localhost:8080/"
        },
        "id": "rJJOzQU4X5b0",
        "outputId": "d8fb6ae6-09da-4b3d-976e-b8a35984462f"
      },
      "execution_count": 36,
      "outputs": [
        {
          "output_type": "execute_result",
          "data": {
            "text/plain": [
              "{1: 3, 2: 4, 6: 8}"
            ]
          },
          "metadata": {},
          "execution_count": 36
        }
      ]
    },
    {
      "cell_type": "code",
      "source": [
        "d8.update(d9)\n",
        "print(d8)"
      ],
      "metadata": {
        "colab": {
          "base_uri": "https://localhost:8080/"
        },
        "id": "ZkysRzAtX7so",
        "outputId": "77df77e9-c274-414e-c29f-ab50e823056f"
      },
      "execution_count": 37,
      "outputs": [
        {
          "output_type": "stream",
          "name": "stdout",
          "text": [
            "{'number': [2, 3, 45, 67, 89], 'course': {'machinelearning': 'krish', 'deeplearning': 'youtube', 'nlp': 'udemy'}, 1: 3, 2: 4, 6: 8}\n"
          ]
        }
      ]
    }
  ]
}