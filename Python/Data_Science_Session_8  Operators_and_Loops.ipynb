{
  "nbformat": 4,
  "nbformat_minor": 0,
  "metadata": {
    "colab": {
      "provenance": []
    },
    "kernelspec": {
      "name": "python3",
      "display_name": "Python 3"
    },
    "language_info": {
      "name": "python"
    }
  },
  "cells": [
    {
      "cell_type": "markdown",
      "source": [
        "**Logical Operators**\n",
        "\n",
        " Logical operators are used to combine conditional statements\n",
        "\n",
        "1.  and : Return True if both statements are True\n",
        "\n",
        "2.  or : Returns True if one of the statements is True\n",
        "\n",
        "3.  not: Reverse the result, returns Flase if the result is true\n",
        "\n",
        "\n"
      ],
      "metadata": {
        "id": "fabQ1dQKZ-bz"
      }
    },
    {
      "cell_type": "markdown",
      "source": [
        "**and**"
      ],
      "metadata": {
        "id": "6nYsms0SaPAw"
      }
    },
    {
      "cell_type": "code",
      "source": [
        "birth_year = 1990\n",
        "\n",
        "if birth_year > 1989 and birth_year < 1995 :\n",
        "    print(\"You were born between 1990 and 1994\")"
      ],
      "metadata": {
        "colab": {
          "base_uri": "https://localhost:8080/"
        },
        "id": "3lEt6oZeaQYP",
        "outputId": "48f2f741-9b34-48ec-bd2a-19ad7d370d79"
      },
      "execution_count": 1,
      "outputs": [
        {
          "output_type": "stream",
          "name": "stdout",
          "text": [
            "You were born between 1990 and 1994\n"
          ]
        }
      ]
    },
    {
      "cell_type": "markdown",
      "source": [
        "**or**"
      ],
      "metadata": {
        "id": "8Pofxf6SaVzk"
      }
    },
    {
      "cell_type": "code",
      "source": [
        "birth_year = 1990\n",
        "\n",
        "if birth_year < 1980 or birth_year > 1989 :\n",
        "    print(\"You were not born in 1980\")\n",
        "\n",
        "else:\n",
        "    print(\"You were born in 1990\")"
      ],
      "metadata": {
        "colab": {
          "base_uri": "https://localhost:8080/"
        },
        "id": "13CRY-GDaZKX",
        "outputId": "8d4cc5b3-625a-4474-c4a8-495ffc48656c"
      },
      "execution_count": 2,
      "outputs": [
        {
          "output_type": "stream",
          "name": "stdout",
          "text": [
            "You were not born in 1980\n"
          ]
        }
      ]
    },
    {
      "cell_type": "markdown",
      "source": [
        "**not**"
      ],
      "metadata": {
        "id": "PKVcPbgDakLq"
      }
    },
    {
      "cell_type": "code",
      "source": [
        "birth_year = 1990\n",
        "if not birth_year == 1991:\n",
        "    print(\"The year of birth is not 1991\")"
      ],
      "metadata": {
        "colab": {
          "base_uri": "https://localhost:8080/"
        },
        "id": "uB4XIQymaiKl",
        "outputId": "d41e9180-5aa8-4c87-b94a-e525b9b0c157"
      },
      "execution_count": 3,
      "outputs": [
        {
          "output_type": "stream",
          "name": "stdout",
          "text": [
            "The year of birth is not 1991\n"
          ]
        }
      ]
    },
    {
      "cell_type": "markdown",
      "source": [
        "**Loops Statements in Python**\n",
        "\n",
        "Loops in Python are statements that allow us to perform a certain operation multiple times unless some condtitions is met.\n",
        "\n",
        "**For Loops**\n",
        "\n",
        "1. For Loops is used to iterate iterables like string , tuple , list etc and\n",
        "   perform some opertaions as shown in the flowchart below:\n",
        "\n",
        "2. In for loop we need use 'for' keyword\n",
        "\n",
        "3. The for loop enables you to execute a code block multiple times"
      ],
      "metadata": {
        "id": "AyCKjsbXav44"
      }
    },
    {
      "cell_type": "code",
      "source": [
        "# Taking an example\n",
        "\n",
        "years = [2005,2006,2007,2008,2009,2010]\n",
        "\n",
        "for i in years:\n",
        "    print(i)"
      ],
      "metadata": {
        "colab": {
          "base_uri": "https://localhost:8080/"
        },
        "id": "orZtrrDea5TV",
        "outputId": "dfbb515b-c720-4d0a-c4c4-33cc437d6e5d"
      },
      "execution_count": 4,
      "outputs": [
        {
          "output_type": "stream",
          "name": "stdout",
          "text": [
            "2005\n",
            "2006\n",
            "2007\n",
            "2008\n",
            "2009\n",
            "2010\n"
          ]
        }
      ]
    },
    {
      "cell_type": "code",
      "source": [
        "years = [2005,2006,2007,2008,2009,2010]\n",
        "\n",
        "for year in years:\n",
        "    print(year)"
      ],
      "metadata": {
        "colab": {
          "base_uri": "https://localhost:8080/"
        },
        "id": "WUkJqca9bIcK",
        "outputId": "2767f7c5-fdb0-4529-9f07-f10cbf24790a"
      },
      "execution_count": 5,
      "outputs": [
        {
          "output_type": "stream",
          "name": "stdout",
          "text": [
            "2005\n",
            "2006\n",
            "2007\n",
            "2008\n",
            "2009\n",
            "2010\n"
          ]
        }
      ]
    },
    {
      "cell_type": "markdown",
      "source": [
        "**range() function**\n",
        "\n",
        "1.  It is helpful to think of the range object of an orderred list.\n",
        "\n",
        "2.  This loop format will iterate overall numbers from 0 to limit - 1.\n",
        "\n",
        "3.  The below example prints numbers"
      ],
      "metadata": {
        "id": "lP-Sq7GJbLjG"
      }
    },
    {
      "cell_type": "code",
      "source": [
        "for i in range(5):\n",
        "    print(i)"
      ],
      "metadata": {
        "colab": {
          "base_uri": "https://localhost:8080/"
        },
        "id": "fGBCVWbpbUNr",
        "outputId": "1d98a078-da24-4253-dfbb-174095c3ab86"
      },
      "execution_count": 6,
      "outputs": [
        {
          "output_type": "stream",
          "name": "stdout",
          "text": [
            "0\n",
            "1\n",
            "2\n",
            "3\n",
            "4\n"
          ]
        }
      ]
    },
    {
      "cell_type": "code",
      "source": [
        "# Take a range() function\n",
        "\n",
        "print(range(5))\n",
        "print(range(10))"
      ],
      "metadata": {
        "colab": {
          "base_uri": "https://localhost:8080/"
        },
        "id": "SEN-Ay7cbXsg",
        "outputId": "004264f0-a2f4-4c72-eeac-f647160cf025"
      },
      "execution_count": 7,
      "outputs": [
        {
          "output_type": "stream",
          "name": "stdout",
          "text": [
            "range(0, 5)\n",
            "range(0, 10)\n"
          ]
        }
      ]
    },
    {
      "cell_type": "code",
      "source": [
        "years = [2005,2006,2007,2008,2009,2010]\n",
        "\n",
        "for i in range(len(years)):\n",
        "    print(years[i])"
      ],
      "metadata": {
        "colab": {
          "base_uri": "https://localhost:8080/"
        },
        "id": "Vh45R8iqbbGs",
        "outputId": "245d0032-ab3d-4133-fe71-0ce13dc5468a"
      },
      "execution_count": 8,
      "outputs": [
        {
          "output_type": "stream",
          "name": "stdout",
          "text": [
            "2005\n",
            "2006\n",
            "2007\n",
            "2008\n",
            "2009\n",
            "2010\n"
          ]
        }
      ]
    },
    {
      "cell_type": "markdown",
      "source": [
        "**For with range(start, end , step)**"
      ],
      "metadata": {
        "id": "fIsTQfbgbeVR"
      }
    },
    {
      "cell_type": "code",
      "source": [
        "for i in range(2,10,2):\n",
        "    print(i)"
      ],
      "metadata": {
        "colab": {
          "base_uri": "https://localhost:8080/"
        },
        "id": "yzykL4EQbf1f",
        "outputId": "9655a4f2-a734-4ad0-9bce-3ca3c0b7b158"
      },
      "execution_count": 9,
      "outputs": [
        {
          "output_type": "stream",
          "name": "stdout",
          "text": [
            "2\n",
            "4\n",
            "6\n",
            "8\n"
          ]
        }
      ]
    },
    {
      "cell_type": "code",
      "source": [
        "for i in range(2,12,3):\n",
        "    print(i)"
      ],
      "metadata": {
        "colab": {
          "base_uri": "https://localhost:8080/"
        },
        "id": "QOCzhNj0bjpt",
        "outputId": "6debbe00-0c6b-45f2-96d1-041b0a88ccba"
      },
      "execution_count": 10,
      "outputs": [
        {
          "output_type": "stream",
          "name": "stdout",
          "text": [
            "2\n",
            "5\n",
            "8\n",
            "11\n"
          ]
        }
      ]
    },
    {
      "cell_type": "code",
      "source": [
        "# Changing the elements in the list\n",
        "lang = [\"Java\",\"JavaScript\", \"C\",\"C++\",\"PHP\"]\n",
        "\n",
        "for i in range(len(lang)):\n",
        "    print('Before language',i ,'is',lang[i])\n",
        "    lang[i] = 'Python'\n",
        "    print('After language',i ,'is',lang[i])\n",
        ""
      ],
      "metadata": {
        "colab": {
          "base_uri": "https://localhost:8080/"
        },
        "id": "YCcYcjJ1boMx",
        "outputId": "181747bf-0ed6-47da-9e56-f99acc063e45"
      },
      "execution_count": 11,
      "outputs": [
        {
          "output_type": "stream",
          "name": "stdout",
          "text": [
            "Before language 0 is Java\n",
            "After language 0 is Python\n",
            "Before language 1 is JavaScript\n",
            "After language 1 is Python\n",
            "Before language 2 is C\n",
            "After language 2 is Python\n",
            "Before language 3 is C++\n",
            "After language 3 is Python\n",
            "Before language 4 is PHP\n",
            "After language 4 is Python\n"
          ]
        }
      ]
    },
    {
      "cell_type": "code",
      "source": [
        "# take the numbers between -3 and 6 using for loop\n",
        "#using range() function\n",
        "\n",
        "for i in range(-3,7):\n",
        "    print(i)"
      ],
      "metadata": {
        "colab": {
          "base_uri": "https://localhost:8080/"
        },
        "id": "j9WuUsmdbpWc",
        "outputId": "5e11a240-b7b3-489d-d209-d66542549d2d"
      },
      "execution_count": 12,
      "outputs": [
        {
          "output_type": "stream",
          "name": "stdout",
          "text": [
            "-3\n",
            "-2\n",
            "-1\n",
            "0\n",
            "1\n",
            "2\n",
            "3\n",
            "4\n",
            "5\n",
            "6\n"
          ]
        }
      ]
    },
    {
      "cell_type": "code",
      "source": [
        "l = [1,2,3,45]"
      ],
      "metadata": {
        "id": "lVkFK8X0bsr8"
      },
      "execution_count": 13,
      "outputs": []
    },
    {
      "cell_type": "code",
      "source": [
        "l[0] = 100"
      ],
      "metadata": {
        "id": "PAFUXCTpbvKh"
      },
      "execution_count": 14,
      "outputs": []
    },
    {
      "cell_type": "code",
      "source": [
        "l"
      ],
      "metadata": {
        "colab": {
          "base_uri": "https://localhost:8080/"
        },
        "id": "IMfR0VvNbxKH",
        "outputId": "a87284d3-e414-4a90-ffe9-1413bcead977"
      },
      "execution_count": 15,
      "outputs": [
        {
          "output_type": "execute_result",
          "data": {
            "text/plain": [
              "[100, 2, 3, 45]"
            ]
          },
          "metadata": {},
          "execution_count": 15
        }
      ]
    },
    {
      "cell_type": "code",
      "source": [
        "l2 = []\n",
        "for i in l:\n",
        "    l2.append(i+1)\n",
        "    print(i+1)\n",
        "print(l2)"
      ],
      "metadata": {
        "colab": {
          "base_uri": "https://localhost:8080/"
        },
        "id": "GmlfEmHfbzEP",
        "outputId": "b7b03b23-f960-4573-85b7-1d87f3bb9e91"
      },
      "execution_count": 21,
      "outputs": [
        {
          "output_type": "stream",
          "name": "stdout",
          "text": [
            "101\n",
            "3\n",
            "4\n",
            "46\n",
            "[101, 3, 4, 46]\n"
          ]
        }
      ]
    },
    {
      "cell_type": "code",
      "source": [
        "l1 = [2,3,4,5,56,6,76]"
      ],
      "metadata": {
        "id": "wofHA8glcgia"
      },
      "execution_count": 22,
      "outputs": []
    },
    {
      "cell_type": "code",
      "source": [
        "l2 = []\n",
        "for i in l1:\n",
        "    l2.append(i+1)\n",
        "    print(i+1)\n",
        "print(l2)"
      ],
      "metadata": {
        "colab": {
          "base_uri": "https://localhost:8080/"
        },
        "id": "BKg4_XDdcW5v",
        "outputId": "9a12e4d1-7841-4737-ec17-7bf37e7044cc"
      },
      "execution_count": 23,
      "outputs": [
        {
          "output_type": "stream",
          "name": "stdout",
          "text": [
            "3\n",
            "4\n",
            "5\n",
            "6\n",
            "57\n",
            "7\n",
            "77\n",
            "[3, 4, 5, 6, 57, 7, 77]\n"
          ]
        }
      ]
    },
    {
      "cell_type": "code",
      "source": [
        "for ak in \"akshat\":\n",
        "    print(ak)"
      ],
      "metadata": {
        "colab": {
          "base_uri": "https://localhost:8080/"
        },
        "id": "olQTdwzTc8rh",
        "outputId": "fe45d107-6764-49d0-9e57-9e8987ae4d37"
      },
      "execution_count": 24,
      "outputs": [
        {
          "output_type": "stream",
          "name": "stdout",
          "text": [
            "a\n",
            "k\n",
            "s\n",
            "h\n",
            "a\n",
            "t\n"
          ]
        }
      ]
    },
    {
      "cell_type": "code",
      "source": [
        "dict1 = {'a':'ankit','b':'bhuvan', 'c':'chandan'}\n",
        "len(dict1.items())"
      ],
      "metadata": {
        "colab": {
          "base_uri": "https://localhost:8080/"
        },
        "id": "lbTAF9IUc_Pn",
        "outputId": "65347afe-7b8d-4382-b765-b7a9a2c22c09"
      },
      "execution_count": 25,
      "outputs": [
        {
          "output_type": "execute_result",
          "data": {
            "text/plain": [
              "3"
            ]
          },
          "metadata": {},
          "execution_count": 25
        }
      ]
    },
    {
      "cell_type": "code",
      "source": [
        "dict1"
      ],
      "metadata": {
        "colab": {
          "base_uri": "https://localhost:8080/"
        },
        "id": "1Vt42EJkdFKV",
        "outputId": "539215e1-2c1c-4338-e9b1-81e319fb54c8"
      },
      "execution_count": 26,
      "outputs": [
        {
          "output_type": "execute_result",
          "data": {
            "text/plain": [
              "{'a': 'ankit', 'b': 'bhuvan', 'c': 'chandan'}"
            ]
          },
          "metadata": {},
          "execution_count": 26
        }
      ]
    },
    {
      "cell_type": "code",
      "source": [
        "keys = []\n",
        "values = []\n",
        "\n",
        "for item in dict1.items():\n",
        "    keys.append(item[0]), values.append(item[1])\n",
        "\n",
        "print(\"keys: \", keys)\n",
        "print(\"values : \", values)"
      ],
      "metadata": {
        "colab": {
          "base_uri": "https://localhost:8080/"
        },
        "id": "pOm16Ba9dF8a",
        "outputId": "151f9ce1-b3d7-41a8-97e4-8b43afbebde8"
      },
      "execution_count": 27,
      "outputs": [
        {
          "output_type": "stream",
          "name": "stdout",
          "text": [
            "keys:  ['a', 'b', 'c']\n",
            "values :  ['ankit', 'bhuvan', 'chandan']\n"
          ]
        }
      ]
    },
    {
      "cell_type": "code",
      "source": [
        "d6 = {'launch_date':{12,14,28}, 'class_time':{'web_dev':8, 'DataScience':8, 'Java':7}, 'mentor':['udemy','youtube','coursersa','Navin']}"
      ],
      "metadata": {
        "id": "--mIgAXddLCI"
      },
      "execution_count": 28,
      "outputs": []
    },
    {
      "cell_type": "code",
      "source": [
        "d6"
      ],
      "metadata": {
        "colab": {
          "base_uri": "https://localhost:8080/"
        },
        "id": "kUggTwgcdL2q",
        "outputId": "229a4b26-c083-4438-be5e-2a8d00f52ef2"
      },
      "execution_count": 29,
      "outputs": [
        {
          "output_type": "execute_result",
          "data": {
            "text/plain": [
              "{'launch_date': {12, 14, 28},\n",
              " 'class_time': {'web_dev': 8, 'DataScience': 8, 'Java': 7},\n",
              " 'mentor': ['udemy', 'youtube', 'coursersa', 'Navin']}"
            ]
          },
          "metadata": {},
          "execution_count": 29
        }
      ]
    },
    {
      "cell_type": "code",
      "source": [
        "d6.fromkeys([3,4,5,6]) #Create a new dictionary with keys from iterable and values set to value."
      ],
      "metadata": {
        "colab": {
          "base_uri": "https://localhost:8080/"
        },
        "id": "Yd0Ie7jbdNqS",
        "outputId": "48052fcb-76ee-4ab1-91ac-aa48d621e617"
      },
      "execution_count": 30,
      "outputs": [
        {
          "output_type": "execute_result",
          "data": {
            "text/plain": [
              "{3: None, 4: None, 5: None, 6: None}"
            ]
          },
          "metadata": {},
          "execution_count": 30
        }
      ]
    },
    {
      "cell_type": "code",
      "source": [
        "d6"
      ],
      "metadata": {
        "colab": {
          "base_uri": "https://localhost:8080/"
        },
        "id": "S6-L1J69dQhA",
        "outputId": "aad08905-0576-49d4-ede6-d496c84a0aa8"
      },
      "execution_count": 31,
      "outputs": [
        {
          "output_type": "execute_result",
          "data": {
            "text/plain": [
              "{'launch_date': {12, 14, 28},\n",
              " 'class_time': {'web_dev': 8, 'DataScience': 8, 'Java': 7},\n",
              " 'mentor': ['udemy', 'youtube', 'coursersa', 'Navin']}"
            ]
          },
          "metadata": {},
          "execution_count": 31
        }
      ]
    },
    {
      "cell_type": "markdown",
      "source": [
        "**nested for loop**"
      ],
      "metadata": {
        "id": "BRuu1vYpdXgw"
      }
    },
    {
      "cell_type": "code",
      "source": [
        "num = int(input(\"enter a number\\n\"))\n",
        "\n",
        "print(f'The entered number is:{num}.')\n",
        "\n",
        "i,j = 0,0\n",
        "for i in range(0,num):\n",
        "    print(i)\n",
        "\n",
        "    for j in range(0,i+1):\n",
        "        print(j)"
      ],
      "metadata": {
        "colab": {
          "base_uri": "https://localhost:8080/"
        },
        "id": "L26YbURmdZNs",
        "outputId": "c1532dba-d808-472f-d5fe-ae6ed8d4dad4"
      },
      "execution_count": 32,
      "outputs": [
        {
          "output_type": "stream",
          "name": "stdout",
          "text": [
            "enter a number\n",
            "4\n",
            "The entered number is:4.\n",
            "0\n",
            "0\n",
            "1\n",
            "0\n",
            "1\n",
            "2\n",
            "0\n",
            "1\n",
            "2\n",
            "3\n",
            "0\n",
            "1\n",
            "2\n",
            "3\n"
          ]
        }
      ]
    },
    {
      "cell_type": "code",
      "source": [
        "for i in range(1,6):\n",
        "  for j in range(1,11):\n",
        "    result = i * j\n",
        "    print(f\"{i} * {j} = {result}\")"
      ],
      "metadata": {
        "colab": {
          "base_uri": "https://localhost:8080/"
        },
        "id": "3OxSkHqmdlBf",
        "outputId": "76592245-cbce-462d-d1f3-1c1f93abeba3"
      },
      "execution_count": 33,
      "outputs": [
        {
          "output_type": "stream",
          "name": "stdout",
          "text": [
            "1 * 1 = 1\n",
            "1 * 2 = 2\n",
            "1 * 3 = 3\n",
            "1 * 4 = 4\n",
            "1 * 5 = 5\n",
            "1 * 6 = 6\n",
            "1 * 7 = 7\n",
            "1 * 8 = 8\n",
            "1 * 9 = 9\n",
            "1 * 10 = 10\n",
            "2 * 1 = 2\n",
            "2 * 2 = 4\n",
            "2 * 3 = 6\n",
            "2 * 4 = 8\n",
            "2 * 5 = 10\n",
            "2 * 6 = 12\n",
            "2 * 7 = 14\n",
            "2 * 8 = 16\n",
            "2 * 9 = 18\n",
            "2 * 10 = 20\n",
            "3 * 1 = 3\n",
            "3 * 2 = 6\n",
            "3 * 3 = 9\n",
            "3 * 4 = 12\n",
            "3 * 5 = 15\n",
            "3 * 6 = 18\n",
            "3 * 7 = 21\n",
            "3 * 8 = 24\n",
            "3 * 9 = 27\n",
            "3 * 10 = 30\n",
            "4 * 1 = 4\n",
            "4 * 2 = 8\n",
            "4 * 3 = 12\n",
            "4 * 4 = 16\n",
            "4 * 5 = 20\n",
            "4 * 6 = 24\n",
            "4 * 7 = 28\n",
            "4 * 8 = 32\n",
            "4 * 9 = 36\n",
            "4 * 10 = 40\n",
            "5 * 1 = 5\n",
            "5 * 2 = 10\n",
            "5 * 3 = 15\n",
            "5 * 4 = 20\n",
            "5 * 5 = 25\n",
            "5 * 6 = 30\n",
            "5 * 7 = 35\n",
            "5 * 8 = 40\n",
            "5 * 9 = 45\n",
            "5 * 10 = 50\n"
          ]
        }
      ]
    }
  ]
}