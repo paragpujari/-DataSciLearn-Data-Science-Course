{
  "nbformat": 4,
  "nbformat_minor": 0,
  "metadata": {
    "colab": {
      "provenance": []
    },
    "kernelspec": {
      "name": "python3",
      "display_name": "Python 3"
    },
    "language_info": {
      "name": "python"
    }
  },
  "cells": [
    {
      "cell_type": "markdown",
      "source": [
        "**Condtional Statements in Python**\n",
        "\n",
        "**Comparison Operators**\n",
        "\n",
        "Comparison operators are used to compare some value or operand and based on a condition , produce a Boolean. Python has six comparison operators :\n",
        "\n",
        "1. Less than (<)\n",
        "\n",
        "2. Less than or Equal to (<=)\n",
        "\n",
        "3. Greater than (>)\n",
        "\n",
        "4. Greater than equal to (>=)\n",
        "\n",
        "5. Equal to (==)\n",
        "\n",
        "6. Not equal to (!=)"
      ],
      "metadata": {
        "id": "TP60gnzFamCb"
      }
    },
    {
      "cell_type": "code",
      "source": [
        "a = 5\n",
        "b = 10\n",
        "result = a + b  #Here a and b are operands and + is the operator\n",
        "print(result)"
      ],
      "metadata": {
        "colab": {
          "base_uri": "https://localhost:8080/"
        },
        "id": "_HzDuHcMax1Z",
        "outputId": "7c82b686-5b79-4508-edd4-94afb41cf6ef"
      },
      "execution_count": 1,
      "outputs": [
        {
          "output_type": "stream",
          "name": "stdout",
          "text": [
            "15\n"
          ]
        }
      ]
    },
    {
      "cell_type": "code",
      "source": [
        "# Take a variable\n",
        "volume_ratio = 1.618\n",
        "\n",
        "#condtion less than\n",
        "print(volume_ratio<2)  #The volume ratio is lower than 3 , thus the output is True\n",
        "print(volume_ratio<1)  # The volume ratio is greater than 1 , thus the output is False"
      ],
      "metadata": {
        "colab": {
          "base_uri": "https://localhost:8080/"
        },
        "id": "AKigqdZHa7lf",
        "outputId": "36b6c9d4-a664-4896-b2fd-1ec20ddfa108"
      },
      "execution_count": 2,
      "outputs": [
        {
          "output_type": "stream",
          "name": "stdout",
          "text": [
            "True\n",
            "False\n"
          ]
        }
      ]
    },
    {
      "cell_type": "code",
      "source": [
        "#condtion less than or equal to\n",
        "print(volume_ratio<=2)\n",
        "print(volume_ratio<=1)\n",
        "print(volume_ratio<=1.618)"
      ],
      "metadata": {
        "colab": {
          "base_uri": "https://localhost:8080/"
        },
        "id": "fqehklHma_v4",
        "outputId": "5f67a359-8b29-4095-9957-e64084f17692"
      },
      "execution_count": 3,
      "outputs": [
        {
          "output_type": "stream",
          "name": "stdout",
          "text": [
            "True\n",
            "False\n",
            "True\n"
          ]
        }
      ]
    },
    {
      "cell_type": "code",
      "source": [
        "#CONDTION greater than\n",
        "volume_ratio = 1.618\n",
        "print(volume_ratio>2)\n",
        "print(volume_ratio>1)"
      ],
      "metadata": {
        "colab": {
          "base_uri": "https://localhost:8080/"
        },
        "id": "PwhOO6-nbDT_",
        "outputId": "71301d7f-c108-4412-c504-e1e959b8760d"
      },
      "execution_count": 4,
      "outputs": [
        {
          "output_type": "stream",
          "name": "stdout",
          "text": [
            "False\n",
            "True\n"
          ]
        }
      ]
    },
    {
      "cell_type": "code",
      "source": [
        "# Condtion greater than equal to\n",
        "volume_ratio = 1.618\n",
        "print(volume_ratio>=2)\n",
        "print(volume_ratio>=1)\n",
        "print(volume_ratio>=1.618)"
      ],
      "metadata": {
        "colab": {
          "base_uri": "https://localhost:8080/"
        },
        "id": "hLr3T_w1bFb1",
        "outputId": "77a0b6e0-e6db-4cd6-bc10-c2efe6a5d1b1"
      },
      "execution_count": 5,
      "outputs": [
        {
          "output_type": "stream",
          "name": "stdout",
          "text": [
            "False\n",
            "True\n",
            "True\n"
          ]
        }
      ]
    },
    {
      "cell_type": "code",
      "source": [
        "# condtion equal to\n",
        "print(volume_ratio==1.618)\n",
        "print(volume_ratio==2)"
      ],
      "metadata": {
        "colab": {
          "base_uri": "https://localhost:8080/"
        },
        "id": "_FJmzoTubHLT",
        "outputId": "bd40c48e-84d7-46a1-a6bf-ca927b6e57c9"
      },
      "execution_count": 6,
      "outputs": [
        {
          "output_type": "stream",
          "name": "stdout",
          "text": [
            "True\n",
            "False\n"
          ]
        }
      ]
    },
    {
      "cell_type": "code",
      "source": [
        "#condtion not equal to\n",
        "print(volume_ratio!=2)\n",
        "print(volume_ratio!=1.618)"
      ],
      "metadata": {
        "colab": {
          "base_uri": "https://localhost:8080/"
        },
        "id": "uts0p2dBbLCX",
        "outputId": "5b72bd29-a5d4-461c-c757-de4190c02639"
      },
      "execution_count": 7,
      "outputs": [
        {
          "output_type": "stream",
          "name": "stdout",
          "text": [
            "True\n",
            "False\n"
          ]
        }
      ]
    },
    {
      "cell_type": "code",
      "source": [
        "# Compare string\n",
        "print(\"Hello\"==\"Python\")\n",
        "print('Hello'!= 'Python')\n",
        "print('Hello'<= 'Python')\n",
        "print('Hello'>= 'Python')\n",
        "print('Hello'< 'Python')\n",
        "print('Hello'>'Python')"
      ],
      "metadata": {
        "colab": {
          "base_uri": "https://localhost:8080/"
        },
        "id": "HEwgbZEZbNar",
        "outputId": "89385f2e-9a45-4e97-dedb-7a500216843f"
      },
      "execution_count": 8,
      "outputs": [
        {
          "output_type": "stream",
          "name": "stdout",
          "text": [
            "False\n",
            "True\n",
            "True\n",
            "False\n",
            "True\n",
            "False\n"
          ]
        }
      ]
    },
    {
      "cell_type": "code",
      "source": [
        "len('Hello')"
      ],
      "metadata": {
        "colab": {
          "base_uri": "https://localhost:8080/"
        },
        "id": "sszjJv1ZbRAC",
        "outputId": "45f9f0c8-94de-49b7-ffeb-891661b59f13"
      },
      "execution_count": 9,
      "outputs": [
        {
          "output_type": "execute_result",
          "data": {
            "text/plain": [
              "5"
            ]
          },
          "metadata": {},
          "execution_count": 9
        }
      ]
    },
    {
      "cell_type": "code",
      "source": [
        "len('Python')"
      ],
      "metadata": {
        "colab": {
          "base_uri": "https://localhost:8080/"
        },
        "id": "YotUbUzDbTvP",
        "outputId": "fd0aeb6d-61bb-4964-92a0-fb66aa3a34b9"
      },
      "execution_count": 10,
      "outputs": [
        {
          "output_type": "execute_result",
          "data": {
            "text/plain": [
              "6"
            ]
          },
          "metadata": {},
          "execution_count": 10
        }
      ]
    },
    {
      "cell_type": "code",
      "source": [
        "print('B' > 'A')  # ASCII table values A and B , A=65 and B=66"
      ],
      "metadata": {
        "colab": {
          "base_uri": "https://localhost:8080/"
        },
        "id": "CduZflzSbVr7",
        "outputId": "e692785c-c54f-4362-e74d-60503320b22a"
      },
      "execution_count": 11,
      "outputs": [
        {
          "output_type": "stream",
          "name": "stdout",
          "text": [
            "True\n"
          ]
        }
      ]
    },
    {
      "cell_type": "markdown",
      "source": [
        "**Condtional Statements**\n",
        "\n",
        "If statements: If statement is a condtion statement that will perform some opertaion , if the expression given in it evaluates to True as shown below:\n",
        "\n",
        "Decision making is required when we want to execute a code if a certain condtion is statisfied"
      ],
      "metadata": {
        "id": "5VY6lSv3bYG9"
      }
    },
    {
      "cell_type": "code",
      "source": [
        "var = \"Pass\"\n",
        "if var == \"Pass\":\n",
        "    print(\"You're are passed\")"
      ],
      "metadata": {
        "colab": {
          "base_uri": "https://localhost:8080/"
        },
        "id": "3ep9my-tba3d",
        "outputId": "06c43f7a-a9bd-4969-dace-bd76a8586383"
      },
      "execution_count": 12,
      "outputs": [
        {
          "output_type": "stream",
          "name": "stdout",
          "text": [
            "You're are passed\n"
          ]
        }
      ]
    },
    {
      "cell_type": "code",
      "source": [
        "var = \"Pass\"\n",
        "if var == \"Pass\":\n",
        "print(\"You're are passed\")"
      ],
      "metadata": {
        "colab": {
          "base_uri": "https://localhost:8080/",
          "height": 106
        },
        "id": "gF1-IRfzbenq",
        "outputId": "271ca0ca-6d97-422f-b083-9654f199295a"
      },
      "execution_count": 13,
      "outputs": [
        {
          "output_type": "error",
          "ename": "IndentationError",
          "evalue": "expected an indented block after 'if' statement on line 2 (<ipython-input-13-11b8984f4df1>, line 3)",
          "traceback": [
            "\u001b[0;36m  File \u001b[0;32m\"<ipython-input-13-11b8984f4df1>\"\u001b[0;36m, line \u001b[0;32m3\u001b[0m\n\u001b[0;31m    print(\"You're are passed\")\u001b[0m\n\u001b[0m    ^\u001b[0m\n\u001b[0;31mIndentationError\u001b[0m\u001b[0;31m:\u001b[0m expected an indented block after 'if' statement on line 2\n"
          ]
        }
      ]
    },
    {
      "cell_type": "markdown",
      "source": [
        "**Else statment**\n",
        "\n",
        "An else statement can be combined with an if statement.\n",
        "\n",
        "An else statement conatins the block of code that executes if the condtional expression in the if statement resolves to 0 or False value."
      ],
      "metadata": {
        "id": "3gxc8JClbhp5"
      }
    },
    {
      "cell_type": "code",
      "source": [
        "pi = 3.14\n",
        "golden_ratio = 1.618\n",
        "\n",
        "if pi<golden_ratio:\n",
        "    print(f'The number of pi{pi} is greater than golden ratio{golden_ratio}')\n",
        "\n",
        "else:\n",
        "    print(f'The golden ratio of {golden_ratio} is lower than pi ratio {pi}')\n",
        "\n",
        "print('Done!')"
      ],
      "metadata": {
        "colab": {
          "base_uri": "https://localhost:8080/"
        },
        "id": "7NAlNcY9blPQ",
        "outputId": "a736a35d-07a6-4599-a826-4d504c4284de"
      },
      "execution_count": 14,
      "outputs": [
        {
          "output_type": "stream",
          "name": "stdout",
          "text": [
            "The golden ratio of 1.618 is lower than pi ratio 3.14\n",
            "Done!\n"
          ]
        }
      ]
    },
    {
      "cell_type": "markdown",
      "source": [
        "**Elif statement**\n",
        "\n",
        "This statment is used in conjunction with the if statement to add some other condition which is evaluated if the condition in if statement fails."
      ],
      "metadata": {
        "id": "FtCaAFRNbqed"
      }
    },
    {
      "cell_type": "code",
      "source": [
        "age = 5\n",
        "\n",
        "if age > 6 :\n",
        "    print(\"You can go to primary school\")\n",
        "elif age == 5 :\n",
        "    print(\"You should go to kinsergarden\")\n",
        "else :\n",
        "    print(\"You are a baby\")"
      ],
      "metadata": {
        "colab": {
          "base_uri": "https://localhost:8080/"
        },
        "id": "ivONorgYbstC",
        "outputId": "c0d86695-7b5d-40b8-8156-7cdd173949a0"
      },
      "execution_count": 15,
      "outputs": [
        {
          "output_type": "stream",
          "name": "stdout",
          "text": [
            "You should go to kinsergarden\n"
          ]
        }
      ]
    },
    {
      "cell_type": "markdown",
      "source": [
        "**Input Function**\n",
        "\n",
        "input() function in Python provides a user of a program supply inputs to the program at runtime."
      ],
      "metadata": {
        "id": "d-h-YI4lbyg2"
      }
    },
    {
      "cell_type": "code",
      "source": [
        "text = input('Enter a string')\n",
        "print(text)"
      ],
      "metadata": {
        "colab": {
          "base_uri": "https://localhost:8080/"
        },
        "id": "wZzjcTNjb1F5",
        "outputId": "0b9c4fc4-9e60-4372-89f2-b3ef416cfc69"
      },
      "execution_count": 17,
      "outputs": [
        {
          "output_type": "stream",
          "name": "stdout",
          "text": [
            "Enter a stringjhkil\n",
            "jhkil\n"
          ]
        }
      ]
    },
    {
      "cell_type": "code",
      "source": [
        "type(text)"
      ],
      "metadata": {
        "colab": {
          "base_uri": "https://localhost:8080/"
        },
        "id": "ybOi6jJmbv5_",
        "outputId": "637b4d33-47b2-4a09-e0a2-568344e56379"
      },
      "execution_count": 18,
      "outputs": [
        {
          "output_type": "execute_result",
          "data": {
            "text/plain": [
              "str"
            ]
          },
          "metadata": {},
          "execution_count": 18
        }
      ]
    },
    {
      "cell_type": "code",
      "source": [
        "age = input('Enter your age')\n",
        "print(age)"
      ],
      "metadata": {
        "colab": {
          "base_uri": "https://localhost:8080/"
        },
        "id": "Hd43gGUXbnpQ",
        "outputId": "fad6d817-bc2b-49db-d55e-e5b2de83ef71"
      },
      "execution_count": 19,
      "outputs": [
        {
          "output_type": "stream",
          "name": "stdout",
          "text": [
            "Enter your age28\n",
            "28\n"
          ]
        }
      ]
    },
    {
      "cell_type": "code",
      "source": [
        "print(type(age))"
      ],
      "metadata": {
        "colab": {
          "base_uri": "https://localhost:8080/"
        },
        "id": "yYA_4iztcDsj",
        "outputId": "dddd4fa1-4242-48d7-aaaf-900db480b4d4"
      },
      "execution_count": 20,
      "outputs": [
        {
          "output_type": "stream",
          "name": "stdout",
          "text": [
            "<class 'str'>\n"
          ]
        }
      ]
    },
    {
      "cell_type": "code",
      "source": [
        "age = int(input('Enter your age'))\n",
        "print(age)"
      ],
      "metadata": {
        "colab": {
          "base_uri": "https://localhost:8080/"
        },
        "id": "k7nkNz1dcGSn",
        "outputId": "1678865c-4a66-4e81-aa99-adf67abcfab6"
      },
      "execution_count": 21,
      "outputs": [
        {
          "output_type": "stream",
          "name": "stdout",
          "text": [
            "Enter your age28\n",
            "28\n"
          ]
        }
      ]
    },
    {
      "cell_type": "code",
      "source": [
        "print(type(age))"
      ],
      "metadata": {
        "colab": {
          "base_uri": "https://localhost:8080/"
        },
        "id": "wJwuYY0JcIG4",
        "outputId": "d03c8bad-c689-4488-b15f-d1f38a9c66f2"
      },
      "execution_count": 22,
      "outputs": [
        {
          "output_type": "stream",
          "name": "stdout",
          "text": [
            "<class 'int'>\n"
          ]
        }
      ]
    },
    {
      "cell_type": "code",
      "source": [
        "marks = int(input(\"enter your marks\"))\n",
        "\n",
        "if marks>=80:\n",
        "    print(\"You will get 1st divison\")\n",
        "elif marks>=60 and marks<80:\n",
        "    print(\"You will get 2nd divison\")\n",
        "elif marks>=40 and marks<60:\n",
        "    print(\"You will get 3rd divison\")\n",
        "\n",
        "else :\n",
        "    print(\"You will be Fail\")"
      ],
      "metadata": {
        "colab": {
          "base_uri": "https://localhost:8080/"
        },
        "id": "z3t15HI0cNhV",
        "outputId": "3a60f4de-4223-415e-a387-a460c0141e37"
      },
      "execution_count": 23,
      "outputs": [
        {
          "output_type": "stream",
          "name": "stdout",
          "text": [
            "enter your marks45\n",
            "You will get 3rd divison\n"
          ]
        }
      ]
    },
    {
      "cell_type": "code",
      "source": [
        "price = int(input(\"enter a price \\n\"))\n",
        "if price > 1000:\n",
        "    print(\"I will not purchase\")\n",
        "else :\n",
        "    print(\"I will purchase\")"
      ],
      "metadata": {
        "colab": {
          "base_uri": "https://localhost:8080/"
        },
        "id": "QIx70IujcSEW",
        "outputId": "6aace3e9-ad51-4e6c-833c-a66858e42e65"
      },
      "execution_count": 24,
      "outputs": [
        {
          "output_type": "stream",
          "name": "stdout",
          "text": [
            "enter a price \n",
            "5000\n",
            "I will not purchase\n"
          ]
        }
      ]
    },
    {
      "cell_type": "code",
      "source": [
        "price = int(input(\"enter a price \\n\"))\n",
        "if price > 1000:\n",
        "    print(\"I will not purchase\")\n",
        "    if price > 5000:\n",
        "        print(\"This is too much\")\n",
        "    elif price < 2000:\n",
        "        print(\"Its Ok\")\n",
        "elif price < 1000 and price > 500 :\n",
        "    print(\"I will purchase\")\n",
        "else:\n",
        "    print(\"not intrested\")"
      ],
      "metadata": {
        "colab": {
          "base_uri": "https://localhost:8080/"
        },
        "id": "mfbcas3vcUZD",
        "outputId": "8b0679f4-b260-4b56-edbc-07160d8253b1"
      },
      "execution_count": 25,
      "outputs": [
        {
          "output_type": "stream",
          "name": "stdout",
          "text": [
            "enter a price \n",
            "6000\n",
            "I will not purchase\n",
            "This is too much\n"
          ]
        }
      ]
    }
  ]
}