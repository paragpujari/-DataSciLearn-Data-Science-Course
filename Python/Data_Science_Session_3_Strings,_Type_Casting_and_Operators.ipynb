{
  "nbformat": 4,
  "nbformat_minor": 0,
  "metadata": {
    "colab": {
      "provenance": []
    },
    "kernelspec": {
      "name": "python3",
      "display_name": "Python 3"
    },
    "language_info": {
      "name": "python"
    }
  },
  "cells": [
    {
      "cell_type": "code",
      "execution_count": 2,
      "metadata": {
        "colab": {
          "base_uri": "https://localhost:8080/"
        },
        "id": "9tMZKcyJpJqQ",
        "outputId": "8a776644-83a4-42d6-d658-b324a24dce21"
      },
      "outputs": [
        {
          "output_type": "stream",
          "name": "stdout",
          "text": [
            "Hello Rahul\n",
            "HelloRahul\n"
          ]
        }
      ],
      "source": [
        "s1 = \"Hello\"\n",
        "s2 = \"Rahul\"\n",
        "\n",
        "print(s1 + \" \" + s2)\n",
        "\n",
        "s3 = s1 + s2\n",
        "\n",
        "print(s3)"
      ]
    },
    {
      "cell_type": "code",
      "source": [
        "s3 = s1 + \" \" + s2\n",
        "\n",
        "print(s3)"
      ],
      "metadata": {
        "colab": {
          "base_uri": "https://localhost:8080/"
        },
        "id": "eKOK6KN1po4T",
        "outputId": "48be7e5d-f7ae-40c1-f491-14c790bc6d44"
      },
      "execution_count": 3,
      "outputs": [
        {
          "output_type": "stream",
          "name": "stdout",
          "text": [
            "Hello Rahul\n"
          ]
        }
      ]
    },
    {
      "cell_type": "code",
      "source": [
        "s4 = \"DataScience\"\n",
        "a = 10\n",
        "c = s4 + a\n",
        "print(c)"
      ],
      "metadata": {
        "colab": {
          "base_uri": "https://localhost:8080/",
          "height": 193
        },
        "id": "iiQQ3KGmpusq",
        "outputId": "343807e4-ff44-42c8-e90f-e3df946f2feb"
      },
      "execution_count": 4,
      "outputs": [
        {
          "output_type": "error",
          "ename": "TypeError",
          "evalue": "can only concatenate str (not \"int\") to str",
          "traceback": [
            "\u001b[0;31m---------------------------------------------------------------------------\u001b[0m",
            "\u001b[0;31mTypeError\u001b[0m                                 Traceback (most recent call last)",
            "\u001b[0;32m<ipython-input-4-68403644c6d1>\u001b[0m in \u001b[0;36m<cell line: 3>\u001b[0;34m()\u001b[0m\n\u001b[1;32m      1\u001b[0m \u001b[0ms4\u001b[0m \u001b[0;34m=\u001b[0m \u001b[0;34m\"DataScience\"\u001b[0m\u001b[0;34m\u001b[0m\u001b[0;34m\u001b[0m\u001b[0m\n\u001b[1;32m      2\u001b[0m \u001b[0ma\u001b[0m \u001b[0;34m=\u001b[0m \u001b[0;36m10\u001b[0m\u001b[0;34m\u001b[0m\u001b[0;34m\u001b[0m\u001b[0m\n\u001b[0;32m----> 3\u001b[0;31m \u001b[0mc\u001b[0m \u001b[0;34m=\u001b[0m \u001b[0ms4\u001b[0m \u001b[0;34m+\u001b[0m \u001b[0ma\u001b[0m\u001b[0;34m\u001b[0m\u001b[0;34m\u001b[0m\u001b[0m\n\u001b[0m\u001b[1;32m      4\u001b[0m \u001b[0mprint\u001b[0m\u001b[0;34m(\u001b[0m\u001b[0mc\u001b[0m\u001b[0;34m)\u001b[0m\u001b[0;34m\u001b[0m\u001b[0;34m\u001b[0m\u001b[0m\n",
            "\u001b[0;31mTypeError\u001b[0m: can only concatenate str (not \"int\") to str"
          ]
        }
      ]
    },
    {
      "cell_type": "code",
      "source": [
        "s4 = \"DataScience\"\n",
        "a = \"10\"\n",
        "c = s4 + a\n",
        "print(c)"
      ],
      "metadata": {
        "colab": {
          "base_uri": "https://localhost:8080/"
        },
        "id": "5sANyU8ipyWj",
        "outputId": "881af6ce-4135-4a6a-b2de-e837fa803199"
      },
      "execution_count": 5,
      "outputs": [
        {
          "output_type": "stream",
          "name": "stdout",
          "text": [
            "DataScience10\n"
          ]
        }
      ]
    },
    {
      "cell_type": "code",
      "source": [
        "print(type(c))"
      ],
      "metadata": {
        "colab": {
          "base_uri": "https://localhost:8080/"
        },
        "id": "c4__F3Pxp4Bw",
        "outputId": "5d5d5614-32ea-462e-8f5e-7367a7498481"
      },
      "execution_count": 6,
      "outputs": [
        {
          "output_type": "stream",
          "name": "stdout",
          "text": [
            "<class 'str'>\n"
          ]
        }
      ]
    },
    {
      "cell_type": "markdown",
      "source": [
        "\n",
        "**Python type Casting**\n",
        "1. **Implicit casting** - In Implicit type casting, the python complier internally typecasts one variable into another type without the external action of the user.\n",
        "\n",
        "2. **Explicit casting** - In explicit type casting, the user explicitly forces the complier to convert a variable from one type to another type."
      ],
      "metadata": {
        "id": "TmJhTkfnqJSm"
      }
    },
    {
      "cell_type": "code",
      "source": [
        "# implicit type casting\n",
        "num1 = 100\n",
        "num2 = 10.02\n",
        "\n",
        "c = num1 + num2\n",
        "\n",
        "print(c)"
      ],
      "metadata": {
        "colab": {
          "base_uri": "https://localhost:8080/"
        },
        "id": "UL3B_yp1qQw7",
        "outputId": "b92aed41-4619-4313-88f2-738afac82a90"
      },
      "execution_count": 7,
      "outputs": [
        {
          "output_type": "stream",
          "name": "stdout",
          "text": [
            "110.02\n"
          ]
        }
      ]
    },
    {
      "cell_type": "code",
      "source": [
        "print(type(c))"
      ],
      "metadata": {
        "colab": {
          "base_uri": "https://localhost:8080/"
        },
        "id": "pHsrM_v8qdFI",
        "outputId": "a27fa302-5b71-44fc-f6b6-1d7046dd51d3"
      },
      "execution_count": 8,
      "outputs": [
        {
          "output_type": "stream",
          "name": "stdout",
          "text": [
            "<class 'float'>\n"
          ]
        }
      ]
    },
    {
      "cell_type": "code",
      "source": [
        "# Explicit Type casting\n",
        "\n",
        "num = 123\n",
        "\n",
        "print(str(num))"
      ],
      "metadata": {
        "colab": {
          "base_uri": "https://localhost:8080/"
        },
        "id": "NUGm5aU1qlbM",
        "outputId": "5562a47c-1607-47bd-876d-8bf955c4b7c5"
      },
      "execution_count": 9,
      "outputs": [
        {
          "output_type": "stream",
          "name": "stdout",
          "text": [
            "123\n"
          ]
        }
      ]
    },
    {
      "cell_type": "code",
      "source": [
        "num = 1123\n",
        "\n",
        "print(float(num))"
      ],
      "metadata": {
        "colab": {
          "base_uri": "https://localhost:8080/"
        },
        "id": "64KRqTwrquHN",
        "outputId": "bcf494e9-8f0d-40bc-8768-eb7c46cd7a48"
      },
      "execution_count": 10,
      "outputs": [
        {
          "output_type": "stream",
          "name": "stdout",
          "text": [
            "1123.0\n"
          ]
        }
      ]
    },
    {
      "cell_type": "code",
      "source": [
        "s4 = \"DataScience\"  #string data type\n",
        "a = 10   #integer data type\n",
        "\n",
        "c = s4 + str(a)\n",
        "\n",
        "print(c)"
      ],
      "metadata": {
        "colab": {
          "base_uri": "https://localhost:8080/"
        },
        "id": "yIQieHj-q4wR",
        "outputId": "6a7ad104-ceb6-4526-9392-01fb5992462c"
      },
      "execution_count": 11,
      "outputs": [
        {
          "output_type": "stream",
          "name": "stdout",
          "text": [
            "DataScience10\n"
          ]
        }
      ]
    },
    {
      "cell_type": "code",
      "source": [
        "# Float to Integer\n",
        "var = 7.8\n",
        "print(int(var))"
      ],
      "metadata": {
        "colab": {
          "base_uri": "https://localhost:8080/"
        },
        "id": "h9wjsBhzq_Ik",
        "outputId": "e6138a1d-f897-44d6-9561-ac87b22362a6"
      },
      "execution_count": 12,
      "outputs": [
        {
          "output_type": "stream",
          "name": "stdout",
          "text": [
            "7\n"
          ]
        }
      ]
    },
    {
      "cell_type": "code",
      "source": [
        "# String functions\n",
        "\n",
        "s = 'datascience'\n",
        "\n",
        "print(s.upper())"
      ],
      "metadata": {
        "colab": {
          "base_uri": "https://localhost:8080/"
        },
        "id": "295jgB2CrGsf",
        "outputId": "c336dabc-4038-4d59-fa21-77acb6954127"
      },
      "execution_count": 13,
      "outputs": [
        {
          "output_type": "stream",
          "name": "stdout",
          "text": [
            "DATASCIENCE\n"
          ]
        }
      ]
    },
    {
      "cell_type": "code",
      "source": [
        "# making only the first letter of the entire sentence in capital\n",
        "print(s.capitalize())"
      ],
      "metadata": {
        "colab": {
          "base_uri": "https://localhost:8080/"
        },
        "id": "9vgWpFFIrOuh",
        "outputId": "32643596-2d5b-4b03-c410-951ed58f0959"
      },
      "execution_count": 14,
      "outputs": [
        {
          "output_type": "stream",
          "name": "stdout",
          "text": [
            "Datascience\n"
          ]
        }
      ]
    },
    {
      "cell_type": "code",
      "source": [
        "str1 = \"this is a data science community\"\n",
        "print(str1.capitalize())"
      ],
      "metadata": {
        "colab": {
          "base_uri": "https://localhost:8080/"
        },
        "id": "3jcBsGYErf54",
        "outputId": "3334ca7f-3ad1-441b-90bb-a08245d5dff8"
      },
      "execution_count": 15,
      "outputs": [
        {
          "output_type": "stream",
          "name": "stdout",
          "text": [
            "This is a data science community\n"
          ]
        }
      ]
    },
    {
      "cell_type": "code",
      "source": [
        "print(str1.title()) # making every first word of the given sentence in capital"
      ],
      "metadata": {
        "colab": {
          "base_uri": "https://localhost:8080/"
        },
        "id": "aBVp6-xarotM",
        "outputId": "7d5f958c-8254-4672-9af5-0b807c3455cf"
      },
      "execution_count": 16,
      "outputs": [
        {
          "output_type": "stream",
          "name": "stdout",
          "text": [
            "This Is A Data Science Community\n"
          ]
        }
      ]
    },
    {
      "cell_type": "code",
      "source": [
        "str = \"HELLO\"\n",
        "\n",
        "print(str.lower())"
      ],
      "metadata": {
        "colab": {
          "base_uri": "https://localhost:8080/"
        },
        "id": "D6njRGOYrx7u",
        "outputId": "a3a8c891-b2b2-43c9-a9aa-bd2c85273591"
      },
      "execution_count": 17,
      "outputs": [
        {
          "output_type": "stream",
          "name": "stdout",
          "text": [
            "hello\n"
          ]
        }
      ]
    },
    {
      "cell_type": "code",
      "source": [
        "print(str.replace('HELLO','HI'))"
      ],
      "metadata": {
        "colab": {
          "base_uri": "https://localhost:8080/"
        },
        "id": "OuzNFxlcr4dH",
        "outputId": "7de2c3cd-e806-46b7-ad0b-57610840521f"
      },
      "execution_count": 18,
      "outputs": [
        {
          "output_type": "stream",
          "name": "stdout",
          "text": [
            "HI\n"
          ]
        }
      ]
    },
    {
      "cell_type": "code",
      "source": [
        "str4 = \"one two three one two one four fifty fifty\"\n",
        "\n",
        "print(str4.count('one'))"
      ],
      "metadata": {
        "colab": {
          "base_uri": "https://localhost:8080/"
        },
        "id": "Jdgg21RUsCJk",
        "outputId": "64eafafb-7665-436b-d26c-3ae9aae0935a"
      },
      "execution_count": 19,
      "outputs": [
        {
          "output_type": "stream",
          "name": "stdout",
          "text": [
            "3\n"
          ]
        }
      ]
    },
    {
      "cell_type": "code",
      "source": [
        "first_day = \"Monday\"\n",
        "second_day = \"Tuesday\"\n",
        "\n",
        "print(\"First Day is {} and second day is {}\".format(first_day, second_day))"
      ],
      "metadata": {
        "colab": {
          "base_uri": "https://localhost:8080/"
        },
        "id": "L8rK2FhHsLj6",
        "outputId": "0b633407-6669-48b1-b329-70f8d5b14f04"
      },
      "execution_count": 20,
      "outputs": [
        {
          "output_type": "stream",
          "name": "stdout",
          "text": [
            "First Day is Monday and second day is Tuesday\n"
          ]
        }
      ]
    },
    {
      "cell_type": "code",
      "source": [
        "str2 = \"day\"\n",
        "\n",
        "print(str2 * 5)"
      ],
      "metadata": {
        "colab": {
          "base_uri": "https://localhost:8080/"
        },
        "id": "fonDrcJmsWTj",
        "outputId": "97ebb157-4e9e-4ff3-e682-e5183b1177be"
      },
      "execution_count": 21,
      "outputs": [
        {
          "output_type": "stream",
          "name": "stdout",
          "text": [
            "daydaydaydayday\n"
          ]
        }
      ]
    },
    {
      "cell_type": "code",
      "source": [
        "str2+str(5)"
      ],
      "metadata": {
        "colab": {
          "base_uri": "https://localhost:8080/",
          "height": 141
        },
        "id": "zfRjOufusdlT",
        "outputId": "7e303c36-ce0f-4b11-9f3f-ce7744919c7f"
      },
      "execution_count": 26,
      "outputs": [
        {
          "output_type": "error",
          "ename": "TypeError",
          "evalue": "'str' object is not callable",
          "traceback": [
            "\u001b[0;31m---------------------------------------------------------------------------\u001b[0m",
            "\u001b[0;31mTypeError\u001b[0m                                 Traceback (most recent call last)",
            "\u001b[0;32m<ipython-input-26-08393322f0d1>\u001b[0m in \u001b[0;36m<cell line: 1>\u001b[0;34m()\u001b[0m\n\u001b[0;32m----> 1\u001b[0;31m \u001b[0mstr2\u001b[0m\u001b[0;34m+\u001b[0m\u001b[0mstr\u001b[0m\u001b[0;34m(\u001b[0m\u001b[0;36m5\u001b[0m\u001b[0;34m)\u001b[0m\u001b[0;34m\u001b[0m\u001b[0;34m\u001b[0m\u001b[0m\n\u001b[0m",
            "\u001b[0;31mTypeError\u001b[0m: 'str' object is not callable"
          ]
        }
      ]
    },
    {
      "cell_type": "code",
      "source": [
        "str2/7"
      ],
      "metadata": {
        "colab": {
          "base_uri": "https://localhost:8080/",
          "height": 141
        },
        "id": "cFV2tMymsfyg",
        "outputId": "c4054212-ce44-428c-f378-470ac897c3bf"
      },
      "execution_count": 23,
      "outputs": [
        {
          "output_type": "error",
          "ename": "TypeError",
          "evalue": "unsupported operand type(s) for /: 'str' and 'int'",
          "traceback": [
            "\u001b[0;31m---------------------------------------------------------------------------\u001b[0m",
            "\u001b[0;31mTypeError\u001b[0m                                 Traceback (most recent call last)",
            "\u001b[0;32m<ipython-input-23-9d23c4271a72>\u001b[0m in \u001b[0;36m<cell line: 1>\u001b[0;34m()\u001b[0m\n\u001b[0;32m----> 1\u001b[0;31m \u001b[0mstr2\u001b[0m\u001b[0;34m/\u001b[0m\u001b[0;36m7\u001b[0m\u001b[0;34m\u001b[0m\u001b[0;34m\u001b[0m\u001b[0m\n\u001b[0m",
            "\u001b[0;31mTypeError\u001b[0m: unsupported operand type(s) for /: 'str' and 'int'"
          ]
        }
      ]
    },
    {
      "cell_type": "markdown",
      "source": [
        "**Relational Opertors in Python**\n",
        "     \n",
        "     1. == Is Equal To\n",
        "     2. = Is Greater than or Equal to\n",
        "\n",
        "     3. <= Is Less than Equal to\n",
        "     4. Is Greater than\n",
        "\n",
        "     5. < Is Less than\n",
        "     6. != NotEqual to"
      ],
      "metadata": {
        "id": "1bS-0-fzsvZM"
      }
    },
    {
      "cell_type": "code",
      "source": [
        "10 == 10\n",
        "\n",
        "10 == '10'"
      ],
      "metadata": {
        "colab": {
          "base_uri": "https://localhost:8080/"
        },
        "id": "wrHfGCO4s5_-",
        "outputId": "ea512601-06a2-4d97-c3b4-8740a14c2550"
      },
      "execution_count": 27,
      "outputs": [
        {
          "output_type": "execute_result",
          "data": {
            "text/plain": [
              "False"
            ]
          },
          "metadata": {},
          "execution_count": 27
        }
      ]
    },
    {
      "cell_type": "code",
      "source": [
        "10 > 20"
      ],
      "metadata": {
        "colab": {
          "base_uri": "https://localhost:8080/"
        },
        "id": "aGHzfVNXs-_6",
        "outputId": "8b5cf52b-5e7d-4a6e-ce69-d9ee06fb4bac"
      },
      "execution_count": 28,
      "outputs": [
        {
          "output_type": "execute_result",
          "data": {
            "text/plain": [
              "False"
            ]
          },
          "metadata": {},
          "execution_count": 28
        }
      ]
    },
    {
      "cell_type": "code",
      "source": [
        "10 != 20"
      ],
      "metadata": {
        "colab": {
          "base_uri": "https://localhost:8080/"
        },
        "id": "absOI2DstBYi",
        "outputId": "4dee2f1b-d562-4d8d-bdf2-f3377e14d4af"
      },
      "execution_count": 29,
      "outputs": [
        {
          "output_type": "execute_result",
          "data": {
            "text/plain": [
              "True"
            ]
          },
          "metadata": {},
          "execution_count": 29
        }
      ]
    },
    {
      "cell_type": "code",
      "source": [
        "(2+3) >= (4+1)"
      ],
      "metadata": {
        "colab": {
          "base_uri": "https://localhost:8080/"
        },
        "id": "Po1etQM6tDdW",
        "outputId": "4ccd77cc-f86b-465b-a725-1cdc54d63264"
      },
      "execution_count": 30,
      "outputs": [
        {
          "output_type": "execute_result",
          "data": {
            "text/plain": [
              "True"
            ]
          },
          "metadata": {},
          "execution_count": 30
        }
      ]
    },
    {
      "cell_type": "markdown",
      "source": [
        "**Boolean Operators in Python**\n",
        "\n",
        "1. and - Return True if both operands are True , else False\n",
        "\n",
        "2. or - Return True if one of the operands is true , else False\n",
        "\n",
        "3. not - Return value opposite to the truth value of the expression"
      ],
      "metadata": {
        "id": "Ka8tEZw8tHRv"
      }
    },
    {
      "cell_type": "code",
      "source": [
        "#and operator\n",
        "print(True and False)"
      ],
      "metadata": {
        "colab": {
          "base_uri": "https://localhost:8080/"
        },
        "id": "ZAmJF7uftLKy",
        "outputId": "8d8adcf5-c642-48fa-d04d-b1750377a00c"
      },
      "execution_count": 31,
      "outputs": [
        {
          "output_type": "stream",
          "name": "stdout",
          "text": [
            "False\n"
          ]
        }
      ]
    },
    {
      "cell_type": "code",
      "source": [
        "#or operator\n",
        "print(True or False)"
      ],
      "metadata": {
        "colab": {
          "base_uri": "https://localhost:8080/"
        },
        "id": "KqM3Ih0AtNxI",
        "outputId": "2856f0e2-93a9-4643-c05c-848f94109cf8"
      },
      "execution_count": 32,
      "outputs": [
        {
          "output_type": "stream",
          "name": "stdout",
          "text": [
            "True\n"
          ]
        }
      ]
    },
    {
      "cell_type": "code",
      "source": [
        "#not operator\n",
        "print(not False)"
      ],
      "metadata": {
        "colab": {
          "base_uri": "https://localhost:8080/"
        },
        "id": "_AXY6GQktQPs",
        "outputId": "7394eca3-efe7-4531-d16c-31c3fb5b69ed"
      },
      "execution_count": 33,
      "outputs": [
        {
          "output_type": "stream",
          "name": "stdout",
          "text": [
            "True\n"
          ]
        }
      ]
    },
    {
      "cell_type": "code",
      "source": [],
      "metadata": {
        "id": "1s8ulOhUs4Ss"
      },
      "execution_count": null,
      "outputs": []
    }
  ]
}