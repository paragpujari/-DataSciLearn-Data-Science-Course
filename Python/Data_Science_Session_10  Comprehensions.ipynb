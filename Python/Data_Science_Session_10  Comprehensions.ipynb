{
  "nbformat": 4,
  "nbformat_minor": 0,
  "metadata": {
    "colab": {
      "provenance": []
    },
    "kernelspec": {
      "name": "python3",
      "display_name": "Python 3"
    },
    "language_info": {
      "name": "python"
    }
  },
  "cells": [
    {
      "cell_type": "markdown",
      "source": [
        "**Comprehensions in Python**\n",
        "\n",
        "**List Compreshensions** :\n",
        "\n",
        " It is a shorter syntax to create a new list using values of an existing list."
      ],
      "metadata": {
        "id": "7O1mNfAFqy68"
      }
    },
    {
      "cell_type": "code",
      "source": [
        "l = [1,2,3,4,5]\n",
        "l1 = []\n",
        "for i in l:\n",
        "    l1.append(i**2)\n",
        "print(l1)"
      ],
      "metadata": {
        "colab": {
          "base_uri": "https://localhost:8080/"
        },
        "id": "r9eKuX_Iq3Xx",
        "outputId": "2d76288c-bd4b-4e29-c2a9-a179fbb41db6"
      },
      "execution_count": 1,
      "outputs": [
        {
          "output_type": "stream",
          "name": "stdout",
          "text": [
            "[1, 4, 9, 16, 25]\n"
          ]
        }
      ]
    },
    {
      "cell_type": "code",
      "source": [
        "[(i**2) for i in l]"
      ],
      "metadata": {
        "colab": {
          "base_uri": "https://localhost:8080/"
        },
        "id": "As38Otsvq7fY",
        "outputId": "cbf4ea9f-b88b-4da6-fa83-f1d2b5d62972"
      },
      "execution_count": 2,
      "outputs": [
        {
          "output_type": "execute_result",
          "data": {
            "text/plain": [
              "[1, 4, 9, 16, 25]"
            ]
          },
          "metadata": {},
          "execution_count": 2
        }
      ]
    },
    {
      "cell_type": "code",
      "source": [
        "a = [0,1,2,3]\n",
        "b = [i+1 for i in a]\n",
        "print(b)"
      ],
      "metadata": {
        "colab": {
          "base_uri": "https://localhost:8080/"
        },
        "id": "ZeG5yZmQrEHP",
        "outputId": "7938e55b-fffe-4b5c-a054-eadec9e5be2f"
      },
      "execution_count": 3,
      "outputs": [
        {
          "output_type": "stream",
          "name": "stdout",
          "text": [
            "[1, 2, 3, 4]\n"
          ]
        }
      ]
    },
    {
      "cell_type": "code",
      "source": [
        "[i for i in l if(i % 2 == 0)]"
      ],
      "metadata": {
        "colab": {
          "base_uri": "https://localhost:8080/"
        },
        "id": "NH9qmOU1rGPf",
        "outputId": "49c88766-182c-43a9-92ed-d87319ccaef4"
      },
      "execution_count": 4,
      "outputs": [
        {
          "output_type": "execute_result",
          "data": {
            "text/plain": [
              "[2, 4]"
            ]
          },
          "metadata": {},
          "execution_count": 4
        }
      ]
    },
    {
      "cell_type": "code",
      "source": [
        "l1 = ['aws','nlp','ml','genai','data science masters']"
      ],
      "metadata": {
        "id": "TiLe9eUCrLHZ"
      },
      "execution_count": 5,
      "outputs": []
    },
    {
      "cell_type": "code",
      "source": [
        "[i.upper() for i in l1]"
      ],
      "metadata": {
        "colab": {
          "base_uri": "https://localhost:8080/"
        },
        "id": "_BFFKoVzrR3l",
        "outputId": "7e7c3cf9-ebf2-4631-c768-8407eacac809"
      },
      "execution_count": 6,
      "outputs": [
        {
          "output_type": "execute_result",
          "data": {
            "text/plain": [
              "['AWS', 'NLP', 'ML', 'GENAI', 'DATA SCIENCE MASTERS']"
            ]
          },
          "metadata": {},
          "execution_count": 6
        }
      ]
    },
    {
      "cell_type": "code",
      "source": [
        "l"
      ],
      "metadata": {
        "colab": {
          "base_uri": "https://localhost:8080/"
        },
        "id": "zpc3CtmVrWIY",
        "outputId": "94195743-b3ce-4a0c-b62b-3e5d98a55403"
      },
      "execution_count": 7,
      "outputs": [
        {
          "output_type": "execute_result",
          "data": {
            "text/plain": [
              "[1, 2, 3, 4, 5]"
            ]
          },
          "metadata": {},
          "execution_count": 7
        }
      ]
    },
    {
      "cell_type": "code",
      "source": [
        "list((i**2 for i in l))"
      ],
      "metadata": {
        "colab": {
          "base_uri": "https://localhost:8080/"
        },
        "id": "irTq_eqErYfs",
        "outputId": "a0c5bd6e-3643-47dc-fbb8-3a8077c9042d"
      },
      "execution_count": 8,
      "outputs": [
        {
          "output_type": "execute_result",
          "data": {
            "text/plain": [
              "[1, 4, 9, 16, 25]"
            ]
          },
          "metadata": {},
          "execution_count": 8
        }
      ]
    },
    {
      "cell_type": "markdown",
      "source": [
        "**Set Comprehensions**\n",
        "\n",
        "It is a shorter synatx to create a new set using values of an existing set."
      ],
      "metadata": {
        "id": "jiC_fAFdrdaD"
      }
    },
    {
      "cell_type": "code",
      "source": [
        "a = {0,1,2,4,6}\n",
        "b = {i ** 2 for i in a}\n",
        "b"
      ],
      "metadata": {
        "colab": {
          "base_uri": "https://localhost:8080/"
        },
        "id": "I8kRvYX4rg2q",
        "outputId": "be9cba5e-f2d2-4eb9-9d02-3d2d6c58e208"
      },
      "execution_count": 9,
      "outputs": [
        {
          "output_type": "execute_result",
          "data": {
            "text/plain": [
              "{0, 1, 4, 16, 36}"
            ]
          },
          "metadata": {},
          "execution_count": 9
        }
      ]
    },
    {
      "cell_type": "markdown",
      "source": [
        "**Dict Comprehensions**\n",
        "\n",
        "It is a shorter synatx to create a new dictionary using values of an existing dictionary."
      ],
      "metadata": {
        "id": "dykyycoyrtWa"
      }
    },
    {
      "cell_type": "code",
      "source": [
        "a = {'Hello':'World','First':1}\n",
        "{val:k for k,val in a.items()}"
      ],
      "metadata": {
        "colab": {
          "base_uri": "https://localhost:8080/"
        },
        "id": "Sb3DFqburvFq",
        "outputId": "b5542bb3-58e4-468d-9c45-7761f0c96958"
      },
      "execution_count": 10,
      "outputs": [
        {
          "output_type": "execute_result",
          "data": {
            "text/plain": [
              "{'World': 'Hello', 1: 'First'}"
            ]
          },
          "metadata": {},
          "execution_count": 10
        }
      ]
    },
    {
      "cell_type": "code",
      "source": [
        "d = {\"key1\":1 ,\"key2\":2, \"key3\":3,\"key4\":4}"
      ],
      "metadata": {
        "id": "4oghA9xIryEo"
      },
      "execution_count": 11,
      "outputs": []
    },
    {
      "cell_type": "code",
      "source": [
        "{k:v**2 for k,v in d.items()}"
      ],
      "metadata": {
        "colab": {
          "base_uri": "https://localhost:8080/"
        },
        "id": "Rox59Lc-r2lx",
        "outputId": "61953441-4808-4644-f90c-da89aa609fb3"
      },
      "execution_count": 12,
      "outputs": [
        {
          "output_type": "execute_result",
          "data": {
            "text/plain": [
              "{'key1': 1, 'key2': 4, 'key3': 9, 'key4': 16}"
            ]
          },
          "metadata": {},
          "execution_count": 12
        }
      ]
    },
    {
      "cell_type": "code",
      "source": [
        "d.items()"
      ],
      "metadata": {
        "colab": {
          "base_uri": "https://localhost:8080/"
        },
        "id": "hhPDn8nLsAGx",
        "outputId": "7f29ef2b-48d5-4da9-b8d9-99570242d513"
      },
      "execution_count": 13,
      "outputs": [
        {
          "output_type": "execute_result",
          "data": {
            "text/plain": [
              "dict_items([('key1', 1), ('key2', 2), ('key3', 3), ('key4', 4)])"
            ]
          },
          "metadata": {},
          "execution_count": 13
        }
      ]
    },
    {
      "cell_type": "code",
      "source": [
        "d"
      ],
      "metadata": {
        "colab": {
          "base_uri": "https://localhost:8080/"
        },
        "id": "rLY2z6ZEsDhU",
        "outputId": "5ed93ced-aceb-4b80-84a1-4506d3312358"
      },
      "execution_count": 14,
      "outputs": [
        {
          "output_type": "execute_result",
          "data": {
            "text/plain": [
              "{'key1': 1, 'key2': 2, 'key3': 3, 'key4': 4}"
            ]
          },
          "metadata": {},
          "execution_count": 14
        }
      ]
    },
    {
      "cell_type": "code",
      "source": [
        "{k:v for k,v in d.items() if v > 1}"
      ],
      "metadata": {
        "colab": {
          "base_uri": "https://localhost:8080/"
        },
        "id": "Ep0CHTzlsEQB",
        "outputId": "36911e00-9deb-4f1d-fecf-ec1cfd26a58b"
      },
      "execution_count": 15,
      "outputs": [
        {
          "output_type": "execute_result",
          "data": {
            "text/plain": [
              "{'key2': 2, 'key3': 3, 'key4': 4}"
            ]
          },
          "metadata": {},
          "execution_count": 15
        }
      ]
    },
    {
      "cell_type": "code",
      "source": [],
      "metadata": {
        "id": "pMxJ6LPgrqtQ"
      },
      "execution_count": null,
      "outputs": []
    },
    {
      "cell_type": "code",
      "source": [],
      "metadata": {
        "id": "Y4gf1XyArbMz"
      },
      "execution_count": null,
      "outputs": []
    }
  ]
}