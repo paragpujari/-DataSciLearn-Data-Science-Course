{
  "nbformat": 4,
  "nbformat_minor": 0,
  "metadata": {
    "colab": {
      "provenance": []
    },
    "kernelspec": {
      "name": "python3",
      "display_name": "Python 3"
    },
    "language_info": {
      "name": "python"
    }
  },
  "cells": [
    {
      "cell_type": "markdown",
      "source": [
        "**Tuples**\n",
        "\n",
        "1. Tuples is similar to List except that that the objects in tuple are  \n",
        "  immutable which means we cannot change the elements of a tuple once assigned.\n",
        "\n",
        "2. Tuples are enclosed with in parenthesis ()\n",
        "\n",
        "3. Tuples are orderd , indexed, slicing.\n",
        "\n",
        "4. Tuples can store duplicate values. When we do not want to change the data over time , tuple is a preferred data type.\n",
        "\n",
        "5. Iterating over the elements of a tuple is faster compared to list"
      ],
      "metadata": {
        "id": "mKLd0ywwPnDM"
      }
    },
    {
      "cell_type": "code",
      "source": [
        "# empty tuple\n",
        "\n",
        "tup1 = ()\n",
        "\n",
        "print(tup1)\n",
        "\n",
        "print(type(tup1))"
      ],
      "metadata": {
        "colab": {
          "base_uri": "https://localhost:8080/"
        },
        "id": "gswbFDa2Pyps",
        "outputId": "3cd001d1-1935-43a8-a5cd-a43da13b4228"
      },
      "execution_count": 1,
      "outputs": [
        {
          "output_type": "stream",
          "name": "stdout",
          "text": [
            "()\n",
            "<class 'tuple'>\n"
          ]
        }
      ]
    },
    {
      "cell_type": "code",
      "source": [
        "tup2 = (10,30,60)\n",
        "\n",
        "print(tup2)\n",
        "\n",
        "print(type(tup2))"
      ],
      "metadata": {
        "colab": {
          "base_uri": "https://localhost:8080/"
        },
        "id": "geZdd-74P9JI",
        "outputId": "a5fa34a5-55af-47fc-f8fb-5d5b241cda05"
      },
      "execution_count": 2,
      "outputs": [
        {
          "output_type": "stream",
          "name": "stdout",
          "text": [
            "(10, 30, 60)\n",
            "<class 'tuple'>\n"
          ]
        }
      ]
    },
    {
      "cell_type": "code",
      "source": [
        "# tuples can have elements of same or different types\n",
        "\n",
        "tup3 = ('one', 'datascience',20,30,4.6,True)\n",
        "\n",
        "print(tup3)\n",
        "\n",
        "print(type(tup3))"
      ],
      "metadata": {
        "colab": {
          "base_uri": "https://localhost:8080/"
        },
        "id": "nlPSZ6qfQD4R",
        "outputId": "94325236-e55b-498c-c7ec-d91df4ac9b4b"
      },
      "execution_count": 3,
      "outputs": [
        {
          "output_type": "stream",
          "name": "stdout",
          "text": [
            "('one', 'datascience', 20, 30, 4.6, True)\n",
            "<class 'tuple'>\n"
          ]
        }
      ]
    },
    {
      "cell_type": "code",
      "source": [
        "tup4 = ('ml','nlp',['java','python','java-script',1],True)\n",
        "\n",
        "print(tup4)\n",
        "\n",
        "print(type(tup4))"
      ],
      "metadata": {
        "colab": {
          "base_uri": "https://localhost:8080/"
        },
        "id": "U08GoKabQN02",
        "outputId": "a84a4c28-168e-4bff-b9a0-80eaf4a6f0f4"
      },
      "execution_count": 4,
      "outputs": [
        {
          "output_type": "stream",
          "name": "stdout",
          "text": [
            "('ml', 'nlp', ['java', 'python', 'java-script', 1], True)\n",
            "<class 'tuple'>\n"
          ]
        }
      ]
    },
    {
      "cell_type": "code",
      "source": [
        "len(tup4)"
      ],
      "metadata": {
        "colab": {
          "base_uri": "https://localhost:8080/"
        },
        "id": "h6v0zL2TQVMF",
        "outputId": "739c1cb4-e744-40c2-eb75-7f96fa68232b"
      },
      "execution_count": 5,
      "outputs": [
        {
          "output_type": "execute_result",
          "data": {
            "text/plain": [
              "4"
            ]
          },
          "metadata": {},
          "execution_count": 5
        }
      ]
    },
    {
      "cell_type": "code",
      "source": [
        "#indexing\n",
        "tup4[0]"
      ],
      "metadata": {
        "colab": {
          "base_uri": "https://localhost:8080/",
          "height": 35
        },
        "id": "51SzNbYzQXYK",
        "outputId": "a2ede229-5128-4d87-a8d9-b6949e6fe819"
      },
      "execution_count": 6,
      "outputs": [
        {
          "output_type": "execute_result",
          "data": {
            "text/plain": [
              "'ml'"
            ],
            "application/vnd.google.colaboratory.intrinsic+json": {
              "type": "string"
            }
          },
          "metadata": {},
          "execution_count": 6
        }
      ]
    },
    {
      "cell_type": "code",
      "source": [
        "tup4[-1]"
      ],
      "metadata": {
        "colab": {
          "base_uri": "https://localhost:8080/"
        },
        "id": "-02sta1VQZhH",
        "outputId": "8d20f9a6-32b8-4393-ca63-eb570bbe987f"
      },
      "execution_count": 7,
      "outputs": [
        {
          "output_type": "execute_result",
          "data": {
            "text/plain": [
              "True"
            ]
          },
          "metadata": {},
          "execution_count": 7
        }
      ]
    },
    {
      "cell_type": "code",
      "source": [
        "tup4[0][0]  #Nested Indexing - Access the first character of the first tuple element"
      ],
      "metadata": {
        "colab": {
          "base_uri": "https://localhost:8080/",
          "height": 35
        },
        "id": "BRRSETNxQeAR",
        "outputId": "4d616b2a-e07b-4097-db2f-0ddb16bb6341"
      },
      "execution_count": 8,
      "outputs": [
        {
          "output_type": "execute_result",
          "data": {
            "text/plain": [
              "'m'"
            ],
            "application/vnd.google.colaboratory.intrinsic+json": {
              "type": "string"
            }
          },
          "metadata": {},
          "execution_count": 8
        }
      ]
    },
    {
      "cell_type": "code",
      "source": [
        "#SLICING\n",
        "tup3"
      ],
      "metadata": {
        "colab": {
          "base_uri": "https://localhost:8080/"
        },
        "id": "QwG_AKBPQiM8",
        "outputId": "daa22115-2678-4d5c-d9f1-3680cbb832f5"
      },
      "execution_count": 9,
      "outputs": [
        {
          "output_type": "execute_result",
          "data": {
            "text/plain": [
              "('one', 'datascience', 20, 30, 4.6, True)"
            ]
          },
          "metadata": {},
          "execution_count": 9
        }
      ]
    },
    {
      "cell_type": "code",
      "source": [
        "tup3[1:4]"
      ],
      "metadata": {
        "colab": {
          "base_uri": "https://localhost:8080/"
        },
        "id": "OgECnqnhQkde",
        "outputId": "3f610f42-5957-4cf9-90a6-487209ed0eaf"
      },
      "execution_count": 10,
      "outputs": [
        {
          "output_type": "execute_result",
          "data": {
            "text/plain": [
              "('datascience', 20, 30)"
            ]
          },
          "metadata": {},
          "execution_count": 10
        }
      ]
    },
    {
      "cell_type": "code",
      "source": [
        "tup3[:2]"
      ],
      "metadata": {
        "colab": {
          "base_uri": "https://localhost:8080/"
        },
        "id": "U8UwhdgxQmt-",
        "outputId": "12cbd255-5604-44f6-b27b-f1877702f9bd"
      },
      "execution_count": 11,
      "outputs": [
        {
          "output_type": "execute_result",
          "data": {
            "text/plain": [
              "('one', 'datascience')"
            ]
          },
          "metadata": {},
          "execution_count": 11
        }
      ]
    },
    {
      "cell_type": "code",
      "source": [
        "tup2*3"
      ],
      "metadata": {
        "colab": {
          "base_uri": "https://localhost:8080/"
        },
        "id": "CwbMt6tpQpKN",
        "outputId": "ad49aa9f-6903-4b0e-aee9-118269f20023"
      },
      "execution_count": 12,
      "outputs": [
        {
          "output_type": "execute_result",
          "data": {
            "text/plain": [
              "(10, 30, 60, 10, 30, 60, 10, 30, 60)"
            ]
          },
          "metadata": {},
          "execution_count": 12
        }
      ]
    },
    {
      "cell_type": "code",
      "source": [
        "del tup7[3]"
      ],
      "metadata": {
        "colab": {
          "base_uri": "https://localhost:8080/",
          "height": 141
        },
        "id": "TS2t0kXzQvNj",
        "outputId": "c29a9fe6-ceff-4be8-a713-59ecaec64d94"
      },
      "execution_count": 13,
      "outputs": [
        {
          "output_type": "error",
          "ename": "NameError",
          "evalue": "name 'tup7' is not defined",
          "traceback": [
            "\u001b[0;31m---------------------------------------------------------------------------\u001b[0m",
            "\u001b[0;31mNameError\u001b[0m                                 Traceback (most recent call last)",
            "\u001b[0;32m<ipython-input-13-2d4d764bdab8>\u001b[0m in \u001b[0;36m<cell line: 1>\u001b[0;34m()\u001b[0m\n\u001b[0;32m----> 1\u001b[0;31m \u001b[0;32mdel\u001b[0m \u001b[0mtup7\u001b[0m\u001b[0;34m[\u001b[0m\u001b[0;36m3\u001b[0m\u001b[0;34m]\u001b[0m\u001b[0;34m\u001b[0m\u001b[0;34m\u001b[0m\u001b[0m\n\u001b[0m",
            "\u001b[0;31mNameError\u001b[0m: name 'tup7' is not defined"
          ]
        }
      ]
    },
    {
      "cell_type": "code",
      "source": [
        "tup7 = (10,10,20,67,89)\n",
        "tup7"
      ],
      "metadata": {
        "colab": {
          "base_uri": "https://localhost:8080/"
        },
        "id": "InQzf98rQwEn",
        "outputId": "f5ff82f1-8dd3-4f11-fac4-cb0195e135c3"
      },
      "execution_count": 15,
      "outputs": [
        {
          "output_type": "execute_result",
          "data": {
            "text/plain": [
              "(10, 10, 20, 67, 89)"
            ]
          },
          "metadata": {},
          "execution_count": 15
        }
      ]
    },
    {
      "cell_type": "code",
      "source": [
        "tup7.count(10)"
      ],
      "metadata": {
        "colab": {
          "base_uri": "https://localhost:8080/"
        },
        "id": "sOArgPSxQ1u8",
        "outputId": "5e0823da-5779-402a-aa56-e82738998556"
      },
      "execution_count": 16,
      "outputs": [
        {
          "output_type": "execute_result",
          "data": {
            "text/plain": [
              "2"
            ]
          },
          "metadata": {},
          "execution_count": 16
        }
      ]
    },
    {
      "cell_type": "code",
      "source": [
        "tup7.index(10)"
      ],
      "metadata": {
        "colab": {
          "base_uri": "https://localhost:8080/"
        },
        "id": "iHAlUF1wQ5SN",
        "outputId": "87f0b470-fbd9-483e-9f81-e29e301fa722"
      },
      "execution_count": 17,
      "outputs": [
        {
          "output_type": "execute_result",
          "data": {
            "text/plain": [
              "0"
            ]
          },
          "metadata": {},
          "execution_count": 17
        }
      ]
    },
    {
      "cell_type": "code",
      "source": [
        "tup_new = (200,78,98,9,67,13)"
      ],
      "metadata": {
        "id": "ZBL8uroQQ831"
      },
      "execution_count": 18,
      "outputs": []
    },
    {
      "cell_type": "code",
      "source": [
        "sorted_tuple = sorted(tup_new)\n",
        "\n",
        "print(sorted_tuple)\n",
        "\n",
        "print(type(sorted_tuple))"
      ],
      "metadata": {
        "colab": {
          "base_uri": "https://localhost:8080/"
        },
        "id": "wrwOz14uQ9_2",
        "outputId": "c91950a7-502c-48c9-948f-f4f4ce58a8b4"
      },
      "execution_count": 19,
      "outputs": [
        {
          "output_type": "stream",
          "name": "stdout",
          "text": [
            "[9, 13, 67, 78, 98, 200]\n",
            "<class 'list'>\n"
          ]
        }
      ]
    },
    {
      "cell_type": "code",
      "source": [
        "sorted(sorted_tuple, reverse = True)"
      ],
      "metadata": {
        "colab": {
          "base_uri": "https://localhost:8080/"
        },
        "id": "rUwg0Me2RITz",
        "outputId": "4af5cc2f-1b41-440e-9e70-bbbf4616d5de"
      },
      "execution_count": 20,
      "outputs": [
        {
          "output_type": "execute_result",
          "data": {
            "text/plain": [
              "[200, 98, 78, 67, 13, 9]"
            ]
          },
          "metadata": {},
          "execution_count": 20
        }
      ]
    },
    {
      "cell_type": "code",
      "source": [
        "tup_new"
      ],
      "metadata": {
        "colab": {
          "base_uri": "https://localhost:8080/"
        },
        "id": "ykeoUEOaRN58",
        "outputId": "65c4883b-b5ac-4009-faed-3e3bd70dc74e"
      },
      "execution_count": 21,
      "outputs": [
        {
          "output_type": "execute_result",
          "data": {
            "text/plain": [
              "(200, 78, 98, 9, 67, 13)"
            ]
          },
          "metadata": {},
          "execution_count": 21
        }
      ]
    },
    {
      "cell_type": "code",
      "source": [
        "highest_value = tup_new[0]\n",
        "highest_value"
      ],
      "metadata": {
        "colab": {
          "base_uri": "https://localhost:8080/"
        },
        "id": "ZrO2C5SjRQvq",
        "outputId": "729ec20f-500a-4692-d3ed-c7dbbdea8227"
      },
      "execution_count": 22,
      "outputs": [
        {
          "output_type": "execute_result",
          "data": {
            "text/plain": [
              "200"
            ]
          },
          "metadata": {},
          "execution_count": 22
        }
      ]
    },
    {
      "cell_type": "code",
      "source": [
        "lowest_value = tup_new[-1]\n",
        "lowest_value"
      ],
      "metadata": {
        "colab": {
          "base_uri": "https://localhost:8080/"
        },
        "id": "KRDkrxDKRRjP",
        "outputId": "26a3e993-0cec-40f9-d282-5a03a1674f80"
      },
      "execution_count": 23,
      "outputs": [
        {
          "output_type": "execute_result",
          "data": {
            "text/plain": [
              "13"
            ]
          },
          "metadata": {},
          "execution_count": 23
        }
      ]
    },
    {
      "cell_type": "code",
      "source": [
        "l_new = [200,78,98,9,67,13]"
      ],
      "metadata": {
        "id": "wrixY90aRWp_"
      },
      "execution_count": 24,
      "outputs": []
    },
    {
      "cell_type": "code",
      "source": [
        "print(l_new)"
      ],
      "metadata": {
        "colab": {
          "base_uri": "https://localhost:8080/"
        },
        "id": "9tRQfEFSRXci",
        "outputId": "830b4e25-7070-4391-ef5b-b13b7eee670b"
      },
      "execution_count": 25,
      "outputs": [
        {
          "output_type": "stream",
          "name": "stdout",
          "text": [
            "[200, 78, 98, 9, 67, 13]\n"
          ]
        }
      ]
    },
    {
      "cell_type": "code",
      "source": [
        "l_new.sort()"
      ],
      "metadata": {
        "id": "zkbOGEnLRcfD"
      },
      "execution_count": 26,
      "outputs": []
    },
    {
      "cell_type": "code",
      "source": [
        "l_new"
      ],
      "metadata": {
        "colab": {
          "base_uri": "https://localhost:8080/"
        },
        "id": "LyOq-pmFRe5U",
        "outputId": "80fedb46-67b3-4c53-c1a9-8c2f85bbf5d0"
      },
      "execution_count": 27,
      "outputs": [
        {
          "output_type": "execute_result",
          "data": {
            "text/plain": [
              "[9, 13, 67, 78, 98, 200]"
            ]
          },
          "metadata": {},
          "execution_count": 27
        }
      ]
    },
    {
      "cell_type": "markdown",
      "source": [
        "**Sets**\n",
        "\n",
        "1. Sets are unordered, but you can remove the items and add new items.\n",
        "\n",
        "2. Set elements are unique.Duplicate elements are not allowed.\n",
        "\n",
        "3. Set itself is mutable. We can add or remove items from it.\n",
        "\n",
        "4. Set elements are immutable (cannot be changed)"
      ],
      "metadata": {
        "id": "UgBxoK1jRlUW"
      }
    },
    {
      "cell_type": "code",
      "source": [
        "x = {}  #empty set\n",
        "\n",
        "print(type(x))"
      ],
      "metadata": {
        "colab": {
          "base_uri": "https://localhost:8080/"
        },
        "id": "ZfLv97YORqo2",
        "outputId": "e4e4ad93-34e6-447d-e22b-7bc06a83b9d8"
      },
      "execution_count": 28,
      "outputs": [
        {
          "output_type": "stream",
          "name": "stdout",
          "text": [
            "<class 'dict'>\n"
          ]
        }
      ]
    },
    {
      "cell_type": "code",
      "source": [
        "# first method to define a sets\n",
        "y = {1,2,5,6}\n",
        "print(type(y))"
      ],
      "metadata": {
        "colab": {
          "base_uri": "https://localhost:8080/"
        },
        "id": "IdEbKALrRs-j",
        "outputId": "92f8637c-082e-47d8-95f9-9d6231f02254"
      },
      "execution_count": 29,
      "outputs": [
        {
          "output_type": "stream",
          "name": "stdout",
          "text": [
            "<class 'set'>\n"
          ]
        }
      ]
    },
    {
      "cell_type": "code",
      "source": [
        "# 2nd method to define a set\n",
        "z = set()   #set function\n",
        "print(type(z))"
      ],
      "metadata": {
        "colab": {
          "base_uri": "https://localhost:8080/"
        },
        "id": "umIMwOXdRxU9",
        "outputId": "a9dfec80-4478-4a69-e82c-7787a22047ab"
      },
      "execution_count": 30,
      "outputs": [
        {
          "output_type": "stream",
          "name": "stdout",
          "text": [
            "<class 'set'>\n"
          ]
        }
      ]
    },
    {
      "cell_type": "code",
      "source": [
        "set1 = {'Hello Python!',3.14,1.618,'datascience',3.14,1.618, True, False, 2024}\n",
        "set1"
      ],
      "metadata": {
        "colab": {
          "base_uri": "https://localhost:8080/"
        },
        "id": "fyYXIo_cRzxV",
        "outputId": "360ec224-18b5-4ddd-ce84-6367b961163b"
      },
      "execution_count": 31,
      "outputs": [
        {
          "output_type": "execute_result",
          "data": {
            "text/plain": [
              "{1.618, 2024, 3.14, False, 'Hello Python!', True, 'datascience'}"
            ]
          },
          "metadata": {},
          "execution_count": 31
        }
      ]
    },
    {
      "cell_type": "code",
      "source": [
        "set1.add('DataSciLearn')\n",
        "set1"
      ],
      "metadata": {
        "colab": {
          "base_uri": "https://localhost:8080/"
        },
        "id": "ts_CIXtnR_2t",
        "outputId": "b9303515-f360-4cf3-8ee0-154fc62c55a5"
      },
      "execution_count": 32,
      "outputs": [
        {
          "output_type": "execute_result",
          "data": {
            "text/plain": [
              "{1.618,\n",
              " 2024,\n",
              " 3.14,\n",
              " 'DataSciLearn',\n",
              " False,\n",
              " 'Hello Python!',\n",
              " True,\n",
              " 'datascience'}"
            ]
          },
          "metadata": {},
          "execution_count": 32
        }
      ]
    },
    {
      "cell_type": "code",
      "source": [
        "x_set = {6,7,8,9}\n",
        "print(x_set)\n",
        "\n",
        "x_set.update({3,4,5})\n",
        "\n",
        "print(x_set)"
      ],
      "metadata": {
        "colab": {
          "base_uri": "https://localhost:8080/"
        },
        "id": "V6VOZzjkSEsB",
        "outputId": "008e4aba-d2dc-47a8-a3bb-94b4194ae6f8"
      },
      "execution_count": 33,
      "outputs": [
        {
          "output_type": "stream",
          "name": "stdout",
          "text": [
            "{8, 9, 6, 7}\n",
            "{3, 4, 5, 6, 7, 8, 9}\n"
          ]
        }
      ]
    },
    {
      "cell_type": "code",
      "source": [
        "set1.remove('Hello Python!')\n",
        "\n",
        "print(set1)"
      ],
      "metadata": {
        "colab": {
          "base_uri": "https://localhost:8080/"
        },
        "id": "MSreD6MOSMkP",
        "outputId": "5476ed16-5a55-4834-ffb0-f876b022de4b"
      },
      "execution_count": 34,
      "outputs": [
        {
          "output_type": "stream",
          "name": "stdout",
          "text": [
            "{False, 1.618, True, 3.14, 2024, 'DataSciLearn', 'datascience'}\n"
          ]
        }
      ]
    },
    {
      "cell_type": "code",
      "source": [
        "set1.discard(3.14)  #It leaves the set unchanged to be deleted is not avaiable in the set\n",
        "\n",
        "\n",
        "print(set1)"
      ],
      "metadata": {
        "colab": {
          "base_uri": "https://localhost:8080/"
        },
        "id": "Odl8V3IlSRz3",
        "outputId": "a5c30351-9052-46d4-e721-454b36971797"
      },
      "execution_count": 36,
      "outputs": [
        {
          "output_type": "stream",
          "name": "stdout",
          "text": [
            "{False, 1.618, True, 2024, 'DataSciLearn', 'datascience'}\n"
          ]
        }
      ]
    },
    {
      "cell_type": "code",
      "source": [
        "set1[1]"
      ],
      "metadata": {
        "colab": {
          "base_uri": "https://localhost:8080/",
          "height": 141
        },
        "id": "bv0dLgPYSWgG",
        "outputId": "1105aae4-26f4-46c8-ab28-d2ca913ed559"
      },
      "execution_count": 37,
      "outputs": [
        {
          "output_type": "error",
          "ename": "TypeError",
          "evalue": "'set' object is not subscriptable",
          "traceback": [
            "\u001b[0;31m---------------------------------------------------------------------------\u001b[0m",
            "\u001b[0;31mTypeError\u001b[0m                                 Traceback (most recent call last)",
            "\u001b[0;32m<ipython-input-37-d27c0eee2e56>\u001b[0m in \u001b[0;36m<cell line: 1>\u001b[0;34m()\u001b[0m\n\u001b[0;32m----> 1\u001b[0;31m \u001b[0mset1\u001b[0m\u001b[0;34m[\u001b[0m\u001b[0;36m1\u001b[0m\u001b[0;34m]\u001b[0m\u001b[0;34m\u001b[0m\u001b[0;34m\u001b[0m\u001b[0m\n\u001b[0m",
            "\u001b[0;31mTypeError\u001b[0m: 'set' object is not subscriptable"
          ]
        }
      ]
    },
    {
      "cell_type": "code",
      "source": [
        "# set function\n",
        "\n",
        "l = [10,20,20,'ml','ml', 'HelloPython', 'Master']\n",
        "\n",
        "# convert the list to set\n",
        "print(set(l))"
      ],
      "metadata": {
        "colab": {
          "base_uri": "https://localhost:8080/"
        },
        "id": "_ju810ZvSYp-",
        "outputId": "7d07b86a-15cd-4b1b-9b77-1c845dad4c74"
      },
      "execution_count": 38,
      "outputs": [
        {
          "output_type": "stream",
          "name": "stdout",
          "text": [
            "{'HelloPython', 10, 'ml', 20, 'Master'}\n"
          ]
        }
      ]
    },
    {
      "cell_type": "code",
      "source": [
        "l1 = [10,12,13,10,20,14,67,89,56,76]\n",
        "\n",
        "# remove all duplidate\n",
        "# 2nd highest and 2nd lowest\n",
        "\n",
        "new_list = set(l1)\n",
        "print(new_list)"
      ],
      "metadata": {
        "colab": {
          "base_uri": "https://localhost:8080/"
        },
        "id": "8nGTdVboSdXi",
        "outputId": "fec03d09-4f1f-4972-b580-70be9096eef8"
      },
      "execution_count": 39,
      "outputs": [
        {
          "output_type": "stream",
          "name": "stdout",
          "text": [
            "{67, 10, 12, 13, 14, 76, 20, 56, 89}\n"
          ]
        }
      ]
    },
    {
      "cell_type": "code",
      "source": [
        "#type conversion\n",
        "new_list_out=list(new_list)"
      ],
      "metadata": {
        "id": "x7ZhvfmQSfNM"
      },
      "execution_count": 40,
      "outputs": []
    },
    {
      "cell_type": "code",
      "source": [
        "print(new_list_out)"
      ],
      "metadata": {
        "colab": {
          "base_uri": "https://localhost:8080/"
        },
        "id": "wQbwZm3MShKb",
        "outputId": "a391ab59-2d53-46e1-9287-6841fb82a288"
      },
      "execution_count": 41,
      "outputs": [
        {
          "output_type": "stream",
          "name": "stdout",
          "text": [
            "[67, 10, 12, 13, 14, 76, 20, 56, 89]\n"
          ]
        }
      ]
    },
    {
      "cell_type": "code",
      "source": [
        "new_list_out.sort()"
      ],
      "metadata": {
        "id": "_Tbzs2nfSlHt"
      },
      "execution_count": 42,
      "outputs": []
    },
    {
      "cell_type": "code",
      "source": [
        "print(new_list_out)"
      ],
      "metadata": {
        "colab": {
          "base_uri": "https://localhost:8080/"
        },
        "id": "-5fGfvICSmD4",
        "outputId": "a8034d5b-b5d4-4ba0-cf17-347ec37c9fb4"
      },
      "execution_count": 43,
      "outputs": [
        {
          "output_type": "stream",
          "name": "stdout",
          "text": [
            "[10, 12, 13, 14, 20, 56, 67, 76, 89]\n"
          ]
        }
      ]
    },
    {
      "cell_type": "code",
      "source": [
        "second_highest = new_list_out[-2]\n",
        "print(f\"The second highest element is:{second_highest}\")"
      ],
      "metadata": {
        "colab": {
          "base_uri": "https://localhost:8080/"
        },
        "id": "zLV79x4bSqt6",
        "outputId": "ae87e27e-ecb0-4e58-e06e-004283c342e3"
      },
      "execution_count": 44,
      "outputs": [
        {
          "output_type": "stream",
          "name": "stdout",
          "text": [
            "The second highest element is:76\n"
          ]
        }
      ]
    },
    {
      "cell_type": "code",
      "source": [
        "# Union , Intersection\n",
        "# x = {1,2,3}\n",
        "# y = {4,5,3}\n",
        "# AUinonB = { 1,2,3,4,5}\n",
        "# AIntersectionB = {3}\n",
        "\n",
        "#shortcut : If we have 4 or more lines and if we want to comment that lines we use shortcut ctrl+/"
      ],
      "metadata": {
        "id": "UUFhAn2VSuIM"
      },
      "execution_count": 45,
      "outputs": []
    },
    {
      "cell_type": "code",
      "source": [
        "set1 = set(['Hello Python!',3.14,1.618,'Hello World'])\n",
        "set2 = set([3.14,1.618,True,False,2024])\n",
        "\n",
        "print(set1,set2)"
      ],
      "metadata": {
        "colab": {
          "base_uri": "https://localhost:8080/"
        },
        "id": "-UDMo74uSu3w",
        "outputId": "ea3957d1-05ef-44ee-a169-eb15e4e31030"
      },
      "execution_count": 46,
      "outputs": [
        {
          "output_type": "stream",
          "name": "stdout",
          "text": [
            "{1.618, 3.14, 'Hello Python!', 'Hello World'} {False, 1.618, True, 3.14, 2024}\n"
          ]
        }
      ]
    },
    {
      "cell_type": "code",
      "source": [
        "# To find the intersect of two sets using &\n",
        "\n",
        "intersection = set1&set2\n",
        "intersection"
      ],
      "metadata": {
        "colab": {
          "base_uri": "https://localhost:8080/"
        },
        "id": "fXIHkaFbSx0g",
        "outputId": "a646575d-b134-4c4c-bb56-de39fbf9f879"
      },
      "execution_count": 47,
      "outputs": [
        {
          "output_type": "execute_result",
          "data": {
            "text/plain": [
              "{1.618, 3.14}"
            ]
          },
          "metadata": {},
          "execution_count": 47
        }
      ]
    },
    {
      "cell_type": "code",
      "source": [
        "# To find the intersect of two sets , use intersetion() function\n",
        "set1.intersection(set2)"
      ],
      "metadata": {
        "colab": {
          "base_uri": "https://localhost:8080/"
        },
        "id": "pCI5hW5yS1Lc",
        "outputId": "f018684c-e419-4812-a187-954b77311018"
      },
      "execution_count": 48,
      "outputs": [
        {
          "output_type": "execute_result",
          "data": {
            "text/plain": [
              "{1.618, 3.14}"
            ]
          },
          "metadata": {},
          "execution_count": 48
        }
      ]
    },
    {
      "cell_type": "code",
      "source": [
        "#union function\n",
        "set1.union(set2)"
      ],
      "metadata": {
        "colab": {
          "base_uri": "https://localhost:8080/"
        },
        "id": "ybC55CZtS4wa",
        "outputId": "ebd4901c-9423-4013-8148-fe2b7c30edff"
      },
      "execution_count": 49,
      "outputs": [
        {
          "output_type": "execute_result",
          "data": {
            "text/plain": [
              "{1.618, 2024, 3.14, False, 'Hello Python!', 'Hello World', True}"
            ]
          },
          "metadata": {},
          "execution_count": 49
        }
      ]
    },
    {
      "cell_type": "code",
      "source": [
        "set1.difference(set2)"
      ],
      "metadata": {
        "colab": {
          "base_uri": "https://localhost:8080/"
        },
        "id": "AvxzIYa4S6eG",
        "outputId": "5970ab8d-15dc-4b0b-89b5-c4e81e06ef38"
      },
      "execution_count": 50,
      "outputs": [
        {
          "output_type": "execute_result",
          "data": {
            "text/plain": [
              "{'Hello Python!', 'Hello World'}"
            ]
          },
          "metadata": {},
          "execution_count": 50
        }
      ]
    },
    {
      "cell_type": "code",
      "source": [
        "# min(), max() and sum() function\n",
        "\n",
        "A = [1,1,2,2,3,3,3,4,4,5,5]\n",
        "B = {1,1,2,2,3,3,4,4,5,5}\n",
        "print('The minimum number of A is', min(A))\n",
        "print('The minimum number of B is', min(B))\n",
        "print('The maximum number of A is', max(A))\n",
        "print('The maximum number of B is', max(B))\n",
        "print('The sum of A is', sum(A))\n",
        "print('The sum of B is', sum(B))"
      ],
      "metadata": {
        "colab": {
          "base_uri": "https://localhost:8080/"
        },
        "id": "nlMCOdbOS9mJ",
        "outputId": "b56573d8-0efc-4bb2-dc12-2c7733384c88"
      },
      "execution_count": 51,
      "outputs": [
        {
          "output_type": "stream",
          "name": "stdout",
          "text": [
            "The minimum number of A is 1\n",
            "The minimum number of B is 1\n",
            "The maximum number of A is 5\n",
            "The maximum number of B is 5\n",
            "The sum of A is 33\n",
            "The sum of B is 15\n"
          ]
        }
      ]
    },
    {
      "cell_type": "markdown",
      "source": [
        "**No mutable sequence in a set**\n",
        "\n",
        "A set can not have a mutable elements such as list or dictionary in it. If any , it return error as follow:"
      ],
      "metadata": {
        "id": "U8L-M09KTASm"
      }
    },
    {
      "cell_type": "code",
      "source": [
        "set6 = {'Python',1,2,3,[1,2,3]}\n",
        "set6"
      ],
      "metadata": {
        "colab": {
          "base_uri": "https://localhost:8080/",
          "height": 159
        },
        "id": "ngPaVfqdTC2w",
        "outputId": "512b744e-2031-4a84-b0cf-9c79e48613b3"
      },
      "execution_count": 52,
      "outputs": [
        {
          "output_type": "error",
          "ename": "TypeError",
          "evalue": "unhashable type: 'list'",
          "traceback": [
            "\u001b[0;31m---------------------------------------------------------------------------\u001b[0m",
            "\u001b[0;31mTypeError\u001b[0m                                 Traceback (most recent call last)",
            "\u001b[0;32m<ipython-input-52-ee320cdcc624>\u001b[0m in \u001b[0;36m<cell line: 1>\u001b[0;34m()\u001b[0m\n\u001b[0;32m----> 1\u001b[0;31m \u001b[0mset6\u001b[0m \u001b[0;34m=\u001b[0m \u001b[0;34m{\u001b[0m\u001b[0;34m'Python'\u001b[0m\u001b[0;34m,\u001b[0m\u001b[0;36m1\u001b[0m\u001b[0;34m,\u001b[0m\u001b[0;36m2\u001b[0m\u001b[0;34m,\u001b[0m\u001b[0;36m3\u001b[0m\u001b[0;34m,\u001b[0m\u001b[0;34m[\u001b[0m\u001b[0;36m1\u001b[0m\u001b[0;34m,\u001b[0m\u001b[0;36m2\u001b[0m\u001b[0;34m,\u001b[0m\u001b[0;36m3\u001b[0m\u001b[0;34m]\u001b[0m\u001b[0;34m}\u001b[0m\u001b[0;34m\u001b[0m\u001b[0;34m\u001b[0m\u001b[0m\n\u001b[0m\u001b[1;32m      2\u001b[0m \u001b[0mset6\u001b[0m\u001b[0;34m\u001b[0m\u001b[0;34m\u001b[0m\u001b[0m\n",
            "\u001b[0;31mTypeError\u001b[0m: unhashable type: 'list'"
          ]
        }
      ]
    },
    {
      "cell_type": "code",
      "source": [
        "# index function\n",
        "set7 = {1,2,3,4}\n",
        "set7[1]"
      ],
      "metadata": {
        "colab": {
          "base_uri": "https://localhost:8080/",
          "height": 176
        },
        "id": "4zsNJR16TGTR",
        "outputId": "92b54e9b-4811-4431-9bcf-43fcd7663919"
      },
      "execution_count": 53,
      "outputs": [
        {
          "output_type": "error",
          "ename": "TypeError",
          "evalue": "'set' object is not subscriptable",
          "traceback": [
            "\u001b[0;31m---------------------------------------------------------------------------\u001b[0m",
            "\u001b[0;31mTypeError\u001b[0m                                 Traceback (most recent call last)",
            "\u001b[0;32m<ipython-input-53-660110bc788f>\u001b[0m in \u001b[0;36m<cell line: 3>\u001b[0;34m()\u001b[0m\n\u001b[1;32m      1\u001b[0m \u001b[0;31m# index function\u001b[0m\u001b[0;34m\u001b[0m\u001b[0;34m\u001b[0m\u001b[0m\n\u001b[1;32m      2\u001b[0m \u001b[0mset7\u001b[0m \u001b[0;34m=\u001b[0m \u001b[0;34m{\u001b[0m\u001b[0;36m1\u001b[0m\u001b[0;34m,\u001b[0m\u001b[0;36m2\u001b[0m\u001b[0;34m,\u001b[0m\u001b[0;36m3\u001b[0m\u001b[0;34m,\u001b[0m\u001b[0;36m4\u001b[0m\u001b[0;34m}\u001b[0m\u001b[0;34m\u001b[0m\u001b[0;34m\u001b[0m\u001b[0m\n\u001b[0;32m----> 3\u001b[0;31m \u001b[0mset7\u001b[0m\u001b[0;34m[\u001b[0m\u001b[0;36m1\u001b[0m\u001b[0;34m]\u001b[0m\u001b[0;34m\u001b[0m\u001b[0;34m\u001b[0m\u001b[0m\n\u001b[0m",
            "\u001b[0;31mTypeError\u001b[0m: 'set' object is not subscriptable"
          ]
        }
      ]
    },
    {
      "cell_type": "code",
      "source": [
        "set7 = {1,2,3,4}\n",
        "set7.pop()"
      ],
      "metadata": {
        "colab": {
          "base_uri": "https://localhost:8080/"
        },
        "id": "dCwzruUTTI-e",
        "outputId": "582debf7-603c-4174-af00-24876ee2e74a"
      },
      "execution_count": 54,
      "outputs": [
        {
          "output_type": "execute_result",
          "data": {
            "text/plain": [
              "1"
            ]
          },
          "metadata": {},
          "execution_count": 54
        }
      ]
    },
    {
      "cell_type": "code",
      "source": [
        "set7"
      ],
      "metadata": {
        "colab": {
          "base_uri": "https://localhost:8080/"
        },
        "id": "My3rNSr9TLqJ",
        "outputId": "25f32c27-b36f-42e9-932b-c4c90b3408a4"
      },
      "execution_count": 55,
      "outputs": [
        {
          "output_type": "execute_result",
          "data": {
            "text/plain": [
              "{2, 3, 4}"
            ]
          },
          "metadata": {},
          "execution_count": 55
        }
      ]
    },
    {
      "cell_type": "code",
      "source": [
        "set7.pop(2)"
      ],
      "metadata": {
        "colab": {
          "base_uri": "https://localhost:8080/",
          "height": 141
        },
        "id": "dgMyBvbdTNcd",
        "outputId": "66280f60-dad6-443d-a47e-29706153b94b"
      },
      "execution_count": 56,
      "outputs": [
        {
          "output_type": "error",
          "ename": "TypeError",
          "evalue": "set.pop() takes no arguments (1 given)",
          "traceback": [
            "\u001b[0;31m---------------------------------------------------------------------------\u001b[0m",
            "\u001b[0;31mTypeError\u001b[0m                                 Traceback (most recent call last)",
            "\u001b[0;32m<ipython-input-56-d3260be6e09e>\u001b[0m in \u001b[0;36m<cell line: 1>\u001b[0;34m()\u001b[0m\n\u001b[0;32m----> 1\u001b[0;31m \u001b[0mset7\u001b[0m\u001b[0;34m.\u001b[0m\u001b[0mpop\u001b[0m\u001b[0;34m(\u001b[0m\u001b[0;36m2\u001b[0m\u001b[0;34m)\u001b[0m\u001b[0;34m\u001b[0m\u001b[0;34m\u001b[0m\u001b[0m\n\u001b[0m",
            "\u001b[0;31mTypeError\u001b[0m: set.pop() takes no arguments (1 given)"
          ]
        }
      ]
    }
  ]
}